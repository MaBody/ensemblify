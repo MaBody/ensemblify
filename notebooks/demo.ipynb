{
 "cells": [
  {
   "cell_type": "code",
   "execution_count": 4,
   "id": "9709d617",
   "metadata": {},
   "outputs": [
    {
     "data": {
      "text/plain": [
       "{'ClustalO': {'aligner': 'ClustalO',\n",
       "  'type': 'default',\n",
       "  'params': {'--iterations': 6,\n",
       "   '--max-guidetree-iterations': [1, 2, 3, 4],\n",
       "   '--max-hmm-iterations': [1, 2]}},\n",
       " 'MAFFT_FFT_NS_2': {'aligner': 'MAFFT',\n",
       "  'type': 'default',\n",
       "  'params': {'--op': [1.1475, 1.4025, 1.6575, 1.9125],\n",
       "   '--ep': [0.0922, 0.1538]}},\n",
       " 'MAFFT_L_INS_I': {'aligner': 'MAFFT',\n",
       "  'type': 'default',\n",
       "  'params': {'--localpair': None,\n",
       "   '--maxiterate': 1000,\n",
       "   '--op': [1.1475, 1.4025, 1.6575, 1.9125],\n",
       "   '--ep': [0.0922, 0.1538]}},\n",
       " 'MAFFT_G_INS_I': {'aligner': 'MAFFT',\n",
       "  'type': 'default',\n",
       "  'params': {'--globalpair': None,\n",
       "   '--maxiterate': 1000,\n",
       "   '--op': [1.1475, 1.4025, 1.6575, 1.9125],\n",
       "   '--ep': [0.0922, 0.1538]}},\n",
       " 'Muscle3': {'aligner': 'Muscle3',\n",
       "  'type': 'default',\n",
       "  'params': {'-weight1': ['clustalw', 'none'],\n",
       "   '-weight2': ['clustalw', 'none'],\n",
       "   '-objscore': ['spf', 'xp']}}}"
      ]
     },
     "execution_count": 4,
     "metadata": {},
     "output_type": "execute_result"
    }
   ],
   "source": [
    "import yaml\n",
    "\n",
    "with open(\"../configs/ensemble.yaml\",\"r\") as file:\n",
    "    configs = yaml.safe_load(file)\n",
    "\n",
    "configs"
   ]
  },
  {
   "cell_type": "code",
   "execution_count": 5,
   "id": "79503eb9",
   "metadata": {},
   "outputs": [
    {
     "name": "stdout",
     "output_type": "stream",
     "text": [
      "/hits/fast/cme/bodynems/ensemblify/notebooks\n"
     ]
    },
    {
     "data": {
      "text/plain": [
       "['--localpair§--maxiterate§1000§--op§1.1475§--ep§0.0922',\n",
       " '--localpair§--maxiterate§1000§--op§1.1475§--ep§0.1538',\n",
       " '--localpair§--maxiterate§1000§--op§1.4025§--ep§0.0922',\n",
       " '--localpair§--maxiterate§1000§--op§1.4025§--ep§0.1538',\n",
       " '--localpair§--maxiterate§1000§--op§1.6575§--ep§0.0922',\n",
       " '--localpair§--maxiterate§1000§--op§1.6575§--ep§0.1538',\n",
       " '--localpair§--maxiterate§1000§--op§1.9125§--ep§0.0922',\n",
       " '--localpair§--maxiterate§1000§--op§1.9125§--ep§0.1538']"
      ]
     },
     "execution_count": 5,
     "metadata": {},
     "output_type": "execute_result"
    }
   ],
   "source": [
    "import pathlib\n",
    "from ensemblify.utils import get_option_variants\n",
    "\n",
    "print(pathlib.Path.cwd())\n",
    "get_option_variants(configs[\"MAFFT_L_INS_I\"][\"params\"])"
   ]
  },
  {
   "cell_type": "code",
   "execution_count": 34,
   "id": "18ca44cb",
   "metadata": {},
   "outputs": [],
   "source": [
    "%reload_ext autoreload\n",
    "%autoreload 2\n",
    "from ensemblify.manager import DefaultManager, Manager, infer_manager\n",
    "import yaml\n",
    "import os\n",
    "DATA_DIR = pathlib.Path(\"/hits/fast/cme/bodynems/data/output/test\")\n",
    "OUT_DIR =  pathlib.Path(\"/hits/fast/cme/bodynems/data/output/test\")\n",
    "dataset = \"seqs_1\"\n",
    "threads = 1\n",
    "\n",
    "config = {}\n",
    "config[\"general\"] = yaml.safe_load(open(pathlib.Path.cwd().parent / \"configs/general.yaml\"))\n",
    "config[\"aligners\"] = yaml.safe_load(open(pathlib.Path.cwd().parent / \"configs/aligners.yaml\"))\n",
    "config[\"ensemble\"] = yaml.safe_load(open(pathlib.Path.cwd().parent / \"configs/ensemble.yaml\"))\n",
    "\n",
    "tool = \"ClustalO\"\n",
    "\n",
    "in_file = OUT_DIR / \"seqs_1\" / \"sequences.fasta\"\n",
    "out_dir = OUT_DIR / \"seqs_1\" / tool\n",
    "log_file = OUT_DIR / \"seqs_1\" / tool / \"ensemble.log\"\n",
    "\n",
    "manager_class:Manager = infer_manager(config[\"ensemble\"][tool][\"aligner\"])\n",
    "manager = manager_class(config, tool, in_file, out_dir, log_file, threads, shuffle=False)\n",
    "\n",
    "os.makedirs(OUT_DIR / \"seqs_1\" / tool, exist_ok=True)\n",
    "open(log_file, \"a\").close()\n",
    "\n",
    "ensemble = manager.compute()\n",
    "ensemble_dir = OUT_DIR / dataset / \"ensemble\"\n",
    "os.makedirs(ensemble_dir, exist_ok=True)\n",
    "manager.save_ensemble(ensemble, ensemble_dir)"
   ]
  }
 ],
 "metadata": {
  "kernelspec": {
   "display_name": "ensemblify",
   "language": "python",
   "name": "python3"
  },
  "language_info": {
   "codemirror_mode": {
    "name": "ipython",
    "version": 3
   },
   "file_extension": ".py",
   "mimetype": "text/x-python",
   "name": "python",
   "nbconvert_exporter": "python",
   "pygments_lexer": "ipython3",
   "version": "3.12.11"
  }
 },
 "nbformat": 4,
 "nbformat_minor": 5
}
