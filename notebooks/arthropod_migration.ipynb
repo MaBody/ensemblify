{
 "cells": [
  {
   "cell_type": "code",
   "execution_count": 18,
   "id": "cebbbd66",
   "metadata": {},
   "outputs": [
    {
     "name": "stdout",
     "output_type": "stream",
     "text": [
      "44LK4\n",
      "44\n",
      "LK\n",
      "4\n"
     ]
    }
   ],
   "source": [
    "from Bio import SeqIO\n",
    "from pathlib import Path\n",
    "from Bio.SeqRecord import SeqRecord\n",
    "import pandas as pd\n",
    "import re\n",
    "import os\n",
    "import numpy as np\n",
    "\n",
    "identifier = r\"CYP[\\d+][A-Z+][\\d+]\"\n",
    "# pattern_family = re.compile(r\"(?<=CYP)[\\d]+\")\n",
    "pattern_id = re.compile(r\"(?<=CYP)[\\d]+[A-Z]+[\\d]+\")\n",
    "pattern_fam = re.compile(r\"^[\\d]+\")\n",
    "pattern_subfam = re.compile(r\"[A-Z]+\")\n",
    "pattern_gene = re.compile(r\"[\\d]+$\")\n",
    "\n",
    "test = \"CYP44LK4\"\n",
    "# print(re.search(pattern_family, test).group())\n",
    "print(re.search(pattern_id, test).group())\n",
    "test = \"44LK4\"\n",
    "print(re.search(pattern_fam, test).group())\n",
    "print(re.search(pattern_subfam, test).group())\n",
    "print(re.search(pattern_gene, test).group())\n",
    "\n",
    "\n",
    "def match_or_none(pattern, s):\n",
    "    try:\n",
    "        out = re.search(pattern, s).group()\n",
    "    except:\n",
    "        out = None\n",
    "    return out"
   ]
  },
  {
   "cell_type": "code",
   "execution_count": 2,
   "id": "6b6cc546",
   "metadata": {},
   "outputs": [
    {
     "name": "stdout",
     "output_type": "stream",
     "text": [
      "11118\n"
     ]
    }
   ],
   "source": [
    "data_dir = Path(\"/hits/fast/cme/bodynems/data\")\n",
    "seqs: list[SeqRecord] = list(\n",
    "    SeqIO.parse(data_dir / \"backup\" / \"arthropod.fasta\", format=\"fasta\")\n",
    ")\n",
    "print(len(seqs))\n",
    "\n",
    "stats = []\n",
    "for seq in seqs:\n",
    "    stats.append([seq.id, len(seq)])\n",
    "\n",
    "stats_df = pd.DataFrame(stats, columns=[\"id_full\", \"length\"])"
   ]
  },
  {
   "cell_type": "code",
   "execution_count": 3,
   "id": "fdc9935e",
   "metadata": {},
   "outputs": [],
   "source": [
    "stats_df[\"id\"] = stats_df[\"id_full\"].map(lambda s: match_or_none(pattern_id, s))\n",
    "stats_df[\"family\"] = stats_df[\"id\"].map(lambda s: match_or_none(pattern_fam, s))\n",
    "stats_df[\"subfamily\"] = stats_df[\"id\"].map(lambda s: match_or_none(pattern_subfam, s))\n",
    "stats_df[\"gene\"] = stats_df[\"id\"].map(lambda s: match_or_none(pattern_gene, s))\n",
    "\n",
    "\n",
    "families = stats_df[\"family\"].value_counts()\n",
    "families = families[families > 4].index\n",
    "\n",
    "id_map = dict(zip([seq.id for seq in seqs], stats_df[\"family\"]))\n",
    "\n",
    "seq_groups = {}\n",
    "for family in families:\n",
    "    seq_groups[family] = list(filter(lambda seq: id_map[seq.id] == family, seqs))\n",
    "\n",
    "out_dir = data_dir / \"paper\" / \"arthropod\"\n",
    "# os.makedirs(out_dir, exist_ok=True)"
   ]
  },
  {
   "cell_type": "code",
   "execution_count": null,
   "id": "0d28a0df",
   "metadata": {},
   "outputs": [
    {
     "name": "stderr",
     "output_type": "stream",
     "text": [
      "100%|██████████| 237/237 [00:00<00:00, 309.72it/s]\n"
     ]
    }
   ],
   "source": [
    "from tqdm import tqdm\n",
    "\n",
    "for family, group in tqdm(seq_groups.items()):\n",
    "    dataset_dir = out_dir / f\"CYP_{family}\"\n",
    "    # os.makedirs(dataset_dir)\n",
    "    # SeqIO.write(group, dataset_dir / \"sequences.fasta\", \"fasta\")"
   ]
  },
  {
   "cell_type": "code",
   "execution_count": null,
   "id": "ac1461c3",
   "metadata": {},
   "outputs": [
    {
     "name": "stdout",
     "output_type": "stream",
     "text": [
      "{'6': 1927, '4': 1755, '9': 758}\n",
      "/hits/fast/cme/bodynems/data/paper/arthropod/CYP_6_0 108\n",
      "/hits/fast/cme/bodynems/data/paper/arthropod/CYP_6_1 169\n",
      "/hits/fast/cme/bodynems/data/paper/arthropod/CYP_6_2 25\n",
      "/hits/fast/cme/bodynems/data/paper/arthropod/CYP_6_3 85\n",
      "/hits/fast/cme/bodynems/data/paper/arthropod/CYP_6_4 54\n",
      "/hits/fast/cme/bodynems/data/paper/arthropod/CYP_6_5 43\n",
      "/hits/fast/cme/bodynems/data/paper/arthropod/CYP_6_6 62\n",
      "/hits/fast/cme/bodynems/data/paper/arthropod/CYP_6_7 94\n",
      "/hits/fast/cme/bodynems/data/paper/arthropod/CYP_6_8 104\n",
      "/hits/fast/cme/bodynems/data/paper/arthropod/CYP_6_9 132\n",
      "/hits/fast/cme/bodynems/data/paper/arthropod/CYP_6_10 108\n",
      "/hits/fast/cme/bodynems/data/paper/arthropod/CYP_6_11 162\n",
      "/hits/fast/cme/bodynems/data/paper/arthropod/CYP_6_12 65\n",
      "/hits/fast/cme/bodynems/data/paper/arthropod/CYP_6_13 200\n",
      "/hits/fast/cme/bodynems/data/paper/arthropod/CYP_6_14 30\n",
      "/hits/fast/cme/bodynems/data/paper/arthropod/CYP_6_15 159\n",
      "/hits/fast/cme/bodynems/data/paper/arthropod/CYP_6_16 108\n",
      "/hits/fast/cme/bodynems/data/paper/arthropod/CYP_6_17 136\n",
      "/hits/fast/cme/bodynems/data/paper/arthropod/CYP_6_18 53\n",
      "/hits/fast/cme/bodynems/data/paper/arthropod/CYP_6_19 30\n",
      "/hits/fast/cme/bodynems/data/paper/arthropod/CYP_4_0 182\n",
      "/hits/fast/cme/bodynems/data/paper/arthropod/CYP_4_1 45\n",
      "/hits/fast/cme/bodynems/data/paper/arthropod/CYP_4_2 114\n",
      "/hits/fast/cme/bodynems/data/paper/arthropod/CYP_4_3 206\n",
      "/hits/fast/cme/bodynems/data/paper/arthropod/CYP_4_4 83\n",
      "/hits/fast/cme/bodynems/data/paper/arthropod/CYP_4_5 82\n",
      "/hits/fast/cme/bodynems/data/paper/arthropod/CYP_4_6 51\n",
      "/hits/fast/cme/bodynems/data/paper/arthropod/CYP_4_7 28\n",
      "/hits/fast/cme/bodynems/data/paper/arthropod/CYP_4_8 160\n",
      "/hits/fast/cme/bodynems/data/paper/arthropod/CYP_4_9 67\n",
      "/hits/fast/cme/bodynems/data/paper/arthropod/CYP_4_10 78\n",
      "/hits/fast/cme/bodynems/data/paper/arthropod/CYP_4_11 123\n",
      "/hits/fast/cme/bodynems/data/paper/arthropod/CYP_4_12 35\n",
      "/hits/fast/cme/bodynems/data/paper/arthropod/CYP_4_13 139\n",
      "/hits/fast/cme/bodynems/data/paper/arthropod/CYP_4_14 54\n",
      "/hits/fast/cme/bodynems/data/paper/arthropod/CYP_4_15 142\n",
      "/hits/fast/cme/bodynems/data/paper/arthropod/CYP_4_16 166\n",
      "/hits/fast/cme/bodynems/data/paper/arthropod/CYP_9_0 78\n",
      "/hits/fast/cme/bodynems/data/paper/arthropod/CYP_9_1 204\n",
      "/hits/fast/cme/bodynems/data/paper/arthropod/CYP_9_2 110\n",
      "/hits/fast/cme/bodynems/data/paper/arthropod/CYP_9_3 217\n",
      "/hits/fast/cme/bodynems/data/paper/arthropod/CYP_9_4 149\n"
     ]
    }
   ],
   "source": [
    "import shutil\n",
    "\n",
    "# Special treatment for the largest groups (too big)\n",
    "group_lens = sorted(\n",
    "    {key: len(group) for key, group in seq_groups.items()},\n",
    "    key=lambda key: len(seq_groups[key]),\n",
    ")[::-1]\n",
    "large_groups = {key: len(seq_groups[key]) for key in group_lens[:3]}\n",
    "\n",
    "print(large_groups)\n",
    "\n",
    "MAX_SIZE = 200\n",
    "np.random.seed(1)\n",
    "\n",
    "for family, size in large_groups.items():\n",
    "    start = 0\n",
    "    sizes = (25 + np.random.rand(int(np.sqrt(size))) * 200).astype(int)\n",
    "    n = len(seq_groups[family])\n",
    "    for suffix, size in enumerate(sizes):\n",
    "        if start + size > n - 25:\n",
    "            size = n\n",
    "        subgroup = seq_groups[family][start : start + size]\n",
    "        dataset_dir = out_dir / f\"CYP_{family}_{suffix}\"\n",
    "\n",
    "        # if os.path.exists(dataset_dir):\n",
    "        #     shutil.rmtree(dataset_dir)\n",
    "        # os.makedirs(dataset_dir)\n",
    "        # print(dataset_dir, len(subgroup))\n",
    "        # SeqIO.write(subgroup, dataset_dir / \"sequences.fasta\", \"fasta\")\n",
    "\n",
    "        if size == n:\n",
    "            break\n",
    "        start += size"
   ]
  }
 ],
 "metadata": {
  "kernelspec": {
   "display_name": "ensemblify",
   "language": "python",
   "name": "python3"
  },
  "language_info": {
   "codemirror_mode": {
    "name": "ipython",
    "version": 3
   },
   "file_extension": ".py",
   "mimetype": "text/x-python",
   "name": "python",
   "nbconvert_exporter": "python",
   "pygments_lexer": "ipython3",
   "version": "3.12.11"
  }
 },
 "nbformat": 4,
 "nbformat_minor": 5
}
