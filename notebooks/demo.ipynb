{
 "cells": [
  {
   "cell_type": "code",
   "execution_count": 1,
   "id": "9709d617",
   "metadata": {},
   "outputs": [
    {
     "data": {
      "text/plain": [
       "{'ClustalO': {'aligner': 'ClustalO',\n",
       "  'type': '1:1',\n",
       "  'params': {'--iterations': 6,\n",
       "   '--max-guidetree-iterations': [1, 2, 3, 4],\n",
       "   '--max-hmm-iterations': [1, 2]}},\n",
       " 'MAFFT_FFT_NS_2': {'aligner': 'MAFFT',\n",
       "  'type': '1:1',\n",
       "  'params': {'--op': [1.1475, 1.4025, 1.6575, 1.9125],\n",
       "   '--ep': [0.0922, 0.1538]}},\n",
       " 'MAFFT_L_INS_I': {'aligner': 'MAFFT',\n",
       "  'type': '1:1',\n",
       "  'params': {'--localpair': None,\n",
       "   '--maxiterate': 1000,\n",
       "   '--op': [1.1475, 1.4025, 1.6575, 1.9125],\n",
       "   '--ep': [0.0922, 0.1538]}},\n",
       " 'MAFFT_G_INS_I': {'aligner': 'MAFFT',\n",
       "  'type': '1:1',\n",
       "  'params': {'--globalpair': None,\n",
       "   '--maxiterate': 1000,\n",
       "   '--op': [1.1475, 1.4025, 1.6575, 1.9125],\n",
       "   '--ep': [0.0922, 0.1538]}},\n",
       " 'Muscle3': {'aligner': 'Muscle3',\n",
       "  'type': '1:1',\n",
       "  'params': {'-weight1': ['clustalw', 'none'],\n",
       "   '-weight2': ['clustalw', 'none'],\n",
       "   '-objscore': ['spf', 'xp']}},\n",
       " 'Muscle5': {'aligner': 'Muscle5',\n",
       "  'type': '1:m',\n",
       "  'params': {'-replicates': 2}}}"
      ]
     },
     "execution_count": 1,
     "metadata": {},
     "output_type": "execute_result"
    }
   ],
   "source": [
    "import yaml\n",
    "\n",
    "with open(\"../configs/ensemble.yaml\",\"r\") as file:\n",
    "    configs = yaml.safe_load(file)\n",
    "\n",
    "configs"
   ]
  },
  {
   "cell_type": "code",
   "execution_count": 4,
   "id": "79503eb9",
   "metadata": {},
   "outputs": [
    {
     "name": "stdout",
     "output_type": "stream",
     "text": [
      "/hits/fast/cme/bodynems/ensemblify/notebooks\n"
     ]
    },
    {
     "data": {
      "text/plain": [
       "['--localpair§--maxiterate§1000§--op§1.1475§--ep§0.0922',\n",
       " '--localpair§--maxiterate§1000§--op§1.1475§--ep§0.1538',\n",
       " '--localpair§--maxiterate§1000§--op§1.4025§--ep§0.0922',\n",
       " '--localpair§--maxiterate§1000§--op§1.4025§--ep§0.1538',\n",
       " '--localpair§--maxiterate§1000§--op§1.6575§--ep§0.0922',\n",
       " '--localpair§--maxiterate§1000§--op§1.6575§--ep§0.1538',\n",
       " '--localpair§--maxiterate§1000§--op§1.9125§--ep§0.0922',\n",
       " '--localpair§--maxiterate§1000§--op§1.9125§--ep§0.1538']"
      ]
     },
     "execution_count": 4,
     "metadata": {},
     "output_type": "execute_result"
    }
   ],
   "source": [
    "import pathlib\n",
    "from ensemblify.utils import get_option_variants\n",
    "\n",
    "print(pathlib.Path.cwd())\n",
    "get_option_variants(configs[\"MAFFT_L_INS_I\"])"
   ]
  }
 ],
 "metadata": {
  "kernelspec": {
   "display_name": "ensemblify",
   "language": "python",
   "name": "python3"
  },
  "language_info": {
   "codemirror_mode": {
    "name": "ipython",
    "version": 3
   },
   "file_extension": ".py",
   "mimetype": "text/x-python",
   "name": "python",
   "nbconvert_exporter": "python",
   "pygments_lexer": "ipython3",
   "version": "3.12.11"
  }
 },
 "nbformat": 4,
 "nbformat_minor": 5
}
