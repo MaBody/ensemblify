{
 "cells": [
  {
   "cell_type": "code",
   "execution_count": null,
   "id": "cebbbd66",
   "metadata": {},
   "outputs": [],
   "source": [
    "from Bio import SeqIO\n",
    "from Bio.SeqRecord import SeqRecord\n",
    "from Bio.Seq import Seq\n",
    "from pathlib import Path\n",
    "from Bio.SeqRecord import SeqRecord\n",
    "import os\n",
    "import numpy as np\n",
    "from tqdm import tqdm"
   ]
  },
  {
   "cell_type": "code",
   "execution_count": 41,
   "id": "2df7f728",
   "metadata": {},
   "outputs": [
    {
     "name": "stdout",
     "output_type": "stream",
     "text": [
      "209\n"
     ]
    },
    {
     "name": "stderr",
     "output_type": "stream",
     "text": [
      "100%|██████████| 209/209 [00:00<00:00, 382.43it/s]"
     ]
    },
    {
     "name": "stdout",
     "output_type": "stream",
     "text": [
      "3 8.325358851674642 25\n",
      "30 112.00478468899522 525\n"
     ]
    },
    {
     "name": "stderr",
     "output_type": "stream",
     "text": [
      "\n"
     ]
    }
   ],
   "source": [
    "data_dir = Path(\"/hits/fast/cme/bodynems/data\")\n",
    "KEY = \"sabmark\"\n",
    "bench_dir = data_dir / \"backup\" / \"formattBench\" / KEY / \"twi\" / \"mafft\"\n",
    "out_dir = data_dir / \"paper\" / (\"formatt_\" + KEY)\n",
    "# out_dir = data_dir / \"paper\" / \"formatt_homstrad\"\n",
    "datasets = list(filter(lambda s: s.endswith(\".fasta\"), os.listdir(bench_dir)))\n",
    "print(len(datasets))\n",
    "\n",
    "transfer = []\n",
    "ns = []\n",
    "ks = []\n",
    "for dataset in tqdm(datasets):\n",
    "    seqs = list(SeqIO.parse(bench_dir / dataset, format=\"fasta\"))\n",
    "    seqs = [\n",
    "        SeqRecord(\n",
    "            Seq(str(seq.seq).upper().replace(\"-\", \"\")),\n",
    "            id=seq.id,\n",
    "            name=\"\",\n",
    "            description=\"\",\n",
    "        )\n",
    "        for seq in seqs\n",
    "    ]\n",
    "    n = len(seqs)\n",
    "    k = min(len(seq) for seq in seqs)\n",
    "    ns.append(n)\n",
    "    ks.append(k)\n",
    "    if (n < 3) | (k < 2):\n",
    "        print(\"Problem:\", (n, k))\n",
    "        continue\n",
    "    else:\n",
    "        out_file = out_dir / dataset.rstrip(\"-mafft.fasta\") / \"sequences.fasta\"\n",
    "        # print(out_file)\n",
    "        os.makedirs(out_file.parent, exist_ok=True)\n",
    "        SeqIO.write(seqs, out_file, \"fasta\")\n",
    "ns = np.array(ns)\n",
    "ks = np.array(ks)\n",
    "print(ns.min(), ns.mean(), ns.max())\n",
    "print(ks.min(), ks.mean(), ks.max())"
   ]
  },
  {
   "cell_type": "code",
   "execution_count": 46,
   "id": "365047d7",
   "metadata": {},
   "outputs": [
    {
     "name": "stdout",
     "output_type": "stream",
     "text": [
      "875\n"
     ]
    },
    {
     "name": "stderr",
     "output_type": "stream",
     "text": [
      "  0%|          | 0/875 [00:00<?, ?it/s]"
     ]
    },
    {
     "name": "stderr",
     "output_type": "stream",
     "text": [
      "100%|██████████| 875/875 [00:01<00:00, 646.64it/s]"
     ]
    },
    {
     "name": "stdout",
     "output_type": "stream",
     "text": [
      "329\n",
      "3 5.4407294832826745 41\n",
      "15 181.92705167173253 796\n"
     ]
    },
    {
     "name": "stderr",
     "output_type": "stream",
     "text": [
      "\n"
     ]
    }
   ],
   "source": [
    "data_dir = Path(\"/hits/fast/cme/bodynems/data\")\n",
    "KEY = \"homstrad\"\n",
    "bench_dir = data_dir / \"backup\" / \"formattBench\" / KEY / \"mafft\"\n",
    "out_dir = data_dir / \"paper\" / (\"formatt_\" + KEY)\n",
    "# out_dir = data_dir / \"paper\" / \"formatt_homstrad\"\n",
    "datasets = list(filter(lambda s: s.endswith(\".fasta\"), os.listdir(bench_dir)))\n",
    "print(len(datasets))\n",
    "\n",
    "transfer = []\n",
    "ns = []\n",
    "ks = []\n",
    "for dataset in tqdm(datasets):\n",
    "    seqs = list(SeqIO.parse(bench_dir / dataset, format=\"fasta\"))\n",
    "    seqs = [\n",
    "        SeqRecord(\n",
    "            Seq(str(seq.seq).upper().replace(\"-\", \"\")),\n",
    "            id=seq.id,\n",
    "            name=\"\",\n",
    "            description=\"\",\n",
    "        )\n",
    "        for seq in seqs\n",
    "    ]\n",
    "    n = len(seqs)\n",
    "    k = min(len(seq) for seq in seqs)\n",
    "    if (n < 3) | (k < 2):\n",
    "        # print(\"Problem:\", (n, k))\n",
    "        continue\n",
    "    else:\n",
    "        ns.append(n)\n",
    "        ks.append(k)\n",
    "        out_file = out_dir / dataset.rstrip(\"-mafft.fasta\") / \"sequences.fasta\"\n",
    "        # print(out_file)\n",
    "        os.makedirs(out_file.parent, exist_ok=True)\n",
    "        SeqIO.write(seqs, out_file, \"fasta\")\n",
    "ns = np.array(ns)\n",
    "ks = np.array(ks)\n",
    "print(len(ns))\n",
    "print(ns.min(), ns.mean(), ns.max())\n",
    "print(ks.min(), ks.mean(), ks.max())"
   ]
  }
 ],
 "metadata": {
  "kernelspec": {
   "display_name": "ensemblify",
   "language": "python",
   "name": "python3"
  },
  "language_info": {
   "codemirror_mode": {
    "name": "ipython",
    "version": 3
   },
   "file_extension": ".py",
   "mimetype": "text/x-python",
   "name": "python",
   "nbconvert_exporter": "python",
   "pygments_lexer": "ipython3",
   "version": "3.12.11"
  }
 },
 "nbformat": 4,
 "nbformat_minor": 5
}
