{
 "cells": [
  {
   "cell_type": "code",
   "execution_count": 28,
   "id": "cebbbd66",
   "metadata": {},
   "outputs": [
    {
     "name": "stdout",
     "output_type": "stream",
     "text": [
      "44LK4\n",
      "44\n",
      "LK\n",
      "4\n"
     ]
    }
   ],
   "source": [
    "from Bio import SeqIO\n",
    "from pathlib import Path\n",
    "from Bio.SeqRecord import SeqRecord\n",
    "import pandas as pd\n",
    "import re\n",
    "import os\n",
    "\n",
    "\n",
    "identifier = r\"CYP[\\d+][A-Z+][\\d+]\"\n",
    "# pattern_family = re.compile(r\"(?<=CYP)[\\d]+\")\n",
    "pattern_id = re.compile(r\"(?<=CYP)[\\d]+[A-Z]+[\\d]+\")\n",
    "pattern_fam = re.compile(r\"^[\\d]+\")\n",
    "pattern_subfam = re.compile(r\"[A-Z]+\")\n",
    "pattern_gene = re.compile(r\"[\\d]+$\")\n",
    "\n",
    "test = \"CYP44LK4\"\n",
    "# print(re.search(pattern_family, test).group())\n",
    "print(re.search(pattern_id, test).group())\n",
    "test = \"44LK4\"\n",
    "print(re.search(pattern_fam, test).group())\n",
    "print(re.search(pattern_subfam, test).group())\n",
    "print(re.search(pattern_gene, test).group())\n",
    "\n",
    "\n",
    "def match_or_none(pattern, s):\n",
    "    try:\n",
    "        out = re.search(pattern, s).group()\n",
    "    except:\n",
    "        out = None\n",
    "    return out"
   ]
  },
  {
   "cell_type": "code",
   "execution_count": 29,
   "id": "6b6cc546",
   "metadata": {},
   "outputs": [
    {
     "name": "stdout",
     "output_type": "stream",
     "text": [
      "11118\n"
     ]
    }
   ],
   "source": [
    "data_dir = Path(\"/hits/fast/cme/bodynems/data\")\n",
    "seqs: list[SeqRecord] = list(\n",
    "    SeqIO.parse(data_dir / \"backup\" / \"arthropod.fasta\", format=\"fasta\")\n",
    ")\n",
    "print(len(seqs))\n",
    "\n",
    "stats = []\n",
    "for seq in seqs:\n",
    "    stats.append([seq.id, len(seq)])\n",
    "\n",
    "stats_df = pd.DataFrame(stats, columns=[\"id_full\", \"length\"])"
   ]
  },
  {
   "cell_type": "code",
   "execution_count": 30,
   "id": "fdc9935e",
   "metadata": {},
   "outputs": [],
   "source": [
    "stats_df[\"id\"] = stats_df[\"id_full\"].map(lambda s: match_or_none(pattern_id, s))\n",
    "stats_df[\"family\"] = stats_df[\"id\"].map(lambda s: match_or_none(pattern_fam, s))\n",
    "stats_df[\"subfamily\"] = stats_df[\"id\"].map(lambda s: match_or_none(pattern_subfam, s))\n",
    "stats_df[\"gene\"] = stats_df[\"id\"].map(lambda s: match_or_none(pattern_gene, s))\n",
    "\n",
    "\n",
    "families = stats_df[\"family\"].value_counts()\n",
    "families = families[families > 4].index\n",
    "\n",
    "id_map = dict(zip([seq.id for seq in seqs], stats_df[\"family\"]))\n",
    "\n",
    "seq_groups = {}\n",
    "for family in families:\n",
    "    seq_groups[family] = list(filter(lambda seq: id_map[seq.id] == family, seqs))\n",
    "\n",
    "out_dir = data_dir / \"paper\" / \"arthropod\"\n",
    "os.makedirs(out_dir, exist_ok=True)"
   ]
  },
  {
   "cell_type": "code",
   "execution_count": 31,
   "id": "0d28a0df",
   "metadata": {},
   "outputs": [
    {
     "name": "stderr",
     "output_type": "stream",
     "text": [
      "100%|██████████| 237/237 [00:00<00:00, 309.72it/s]\n"
     ]
    }
   ],
   "source": [
    "from tqdm import tqdm\n",
    "\n",
    "for family, group in tqdm(seq_groups.items()):\n",
    "    dataset_dir = out_dir / f\"CYP_{family}\"\n",
    "    os.makedirs(dataset_dir)\n",
    "    SeqIO.write(group, dataset_dir / \"sequences.fasta\", \"fasta\")"
   ]
  }
 ],
 "metadata": {
  "kernelspec": {
   "display_name": "ensemblify",
   "language": "python",
   "name": "python3"
  },
  "language_info": {
   "codemirror_mode": {
    "name": "ipython",
    "version": 3
   },
   "file_extension": ".py",
   "mimetype": "text/x-python",
   "name": "python",
   "nbconvert_exporter": "python",
   "pygments_lexer": "ipython3",
   "version": "3.12.11"
  }
 },
 "nbformat": 4,
 "nbformat_minor": 5
}
