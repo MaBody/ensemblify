{
 "cells": [
  {
   "cell_type": "code",
   "execution_count": 64,
   "id": "cebbbd66",
   "metadata": {},
   "outputs": [
    {
     "name": "stdout",
     "output_type": "stream",
     "text": [
      "44\n",
      "44LK4\n"
     ]
    }
   ],
   "source": [
    "from Bio import SeqIO\n",
    "from pathlib import Path\n",
    "from Bio.SeqRecord import SeqRecord\n",
    "import pandas as pd\n",
    "import re\n",
    "\n",
    "identifier = r\"CYP[\\d+][A-Z+][\\d+]\"\n",
    "pattern_family = re.compile(r\"(?<=CYP)[\\d]+\")\n",
    "pattern_id = re.compile(r\"(?<=CYP)[\\d]+[A-Z]+[\\d]+\")\n",
    "\n",
    "test = \"CYP44LK4\"\n",
    "print(re.search(pattern_family, test).group())\n",
    "print(re.search(pattern_id, test).group())\n",
    "\n",
    "\n",
    "def match_or_none(pattern, s):\n",
    "    try:\n",
    "        out = re.search(pattern, s).group()\n",
    "    except:\n",
    "        out = None\n",
    "    return out"
   ]
  },
  {
   "cell_type": "code",
   "execution_count": null,
   "id": "6b6cc546",
   "metadata": {},
   "outputs": [
    {
     "name": "stdout",
     "output_type": "stream",
     "text": [
      "11118\n"
     ]
    },
    {
     "data": {
      "text/plain": [
       "id\n",
       "4G15     153\n",
       "314A1    122\n",
       "4G1      114\n",
       "302A1    114\n",
       "315A1     92\n",
       "        ... \n",
       "4DM3       1\n",
       "4DM1       1\n",
       "4DM2       1\n",
       "4DL1       1\n",
       "4W7        1\n",
       "Name: count, Length: 8511, dtype: int64"
      ]
     },
     "execution_count": 65,
     "metadata": {},
     "output_type": "execute_result"
    }
   ],
   "source": [
    "data_dir = Path(\"/hits/fast/cme/bodynems/data\")\n",
    "seqs: list[SeqRecord] = list(\n",
    "    SeqIO.parse(data_dir / \"backup\" / \"arthropod.fasta\", format=\"fasta\")\n",
    ")\n",
    "print(len(seqs))\n",
    "\n",
    "stats = []\n",
    "for seq in seqs:\n",
    "    stats.append([seq.id, len(seq)])\n",
    "\n",
    "stats_df = pd.DataFrame(stats, columns=[\"id_full\", \"length\"])\n",
    "\n",
    "\n",
    "stats_df[\"id\"] = stats_df[\"id_full\"].map(lambda s: match_or_none(pattern_id, s))\n",
    "stats_df[\"id\"].value_counts()\n",
    "stats_df[\"family\"] = \n",
    "\n",
    "# stats_df[\"subfamily\"] = stats_df[\"id\"].map(\n",
    "#     lambda s: match_or_none(pattern_subfamily, s)\n",
    "# )\n",
    "# stats_df[\"subfamily\"].value_counts()"
   ]
  }
 ],
 "metadata": {
  "kernelspec": {
   "display_name": "ensemblify",
   "language": "python",
   "name": "python3"
  },
  "language_info": {
   "codemirror_mode": {
    "name": "ipython",
    "version": 3
   },
   "file_extension": ".py",
   "mimetype": "text/x-python",
   "name": "python",
   "nbconvert_exporter": "python",
   "pygments_lexer": "ipython3",
   "version": "3.12.11"
  }
 },
 "nbformat": 4,
 "nbformat_minor": 5
}
