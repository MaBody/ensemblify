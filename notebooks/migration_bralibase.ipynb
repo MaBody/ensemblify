{
 "cells": [
  {
   "cell_type": "code",
   "execution_count": 6,
   "id": "cebbbd66",
   "metadata": {},
   "outputs": [],
   "source": [
    "from Bio import SeqIO\n",
    "from Bio.SeqRecord import SeqRecord\n",
    "from Bio.Seq import Seq\n",
    "from pathlib import Path\n",
    "from Bio.SeqRecord import SeqRecord\n",
    "import pandas as pd\n",
    "import re\n",
    "import os\n",
    "import numpy as np\n",
    "from tqdm import tqdm"
   ]
  },
  {
   "cell_type": "code",
   "execution_count": 7,
   "id": "2df7f728",
   "metadata": {},
   "outputs": [
    {
     "name": "stdout",
     "output_type": "stream",
     "text": [
      "2405\n"
     ]
    },
    {
     "name": "stderr",
     "output_type": "stream",
     "text": [
      "  0%|          | 0/2405 [00:00<?, ?it/s]"
     ]
    },
    {
     "name": "stderr",
     "output_type": "stream",
     "text": [
      "100%|██████████| 2405/2405 [00:05<00:00, 436.32it/s]\n"
     ]
    },
    {
     "name": "stdout",
     "output_type": "stream",
     "text": [
      "5 5.0 5\n",
      "26 101.56465696465696 305\n",
      "1426\n"
     ]
    },
    {
     "name": "stderr",
     "output_type": "stream",
     "text": [
      "100%|██████████| 1426/1426 [00:03<00:00, 429.77it/s]\n"
     ]
    },
    {
     "name": "stdout",
     "output_type": "stream",
     "text": [
      "7 7.0 7\n",
      "26 101.46072931276298 300\n",
      "503\n"
     ]
    },
    {
     "name": "stderr",
     "output_type": "stream",
     "text": [
      "100%|██████████| 503/503 [00:01<00:00, 426.08it/s]"
     ]
    },
    {
     "name": "stdout",
     "output_type": "stream",
     "text": [
      "15 15.0 15\n",
      "26 97.87077534791253 288\n"
     ]
    },
    {
     "name": "stderr",
     "output_type": "stream",
     "text": [
      "\n"
     ]
    }
   ],
   "source": [
    "data_dir = Path(\"/hits/fast/cme/bodynems/data\")\n",
    "for tag in [\"k5\", \"k7\", \"k15\"]:\n",
    "    bench_dir = data_dir / \"backup\" / \"bralibase\" / tag\n",
    "    out_dir = data_dir / \"paper\" / (\"bralibase\" + \"_\" + tag)\n",
    "    # out_dir = data_dir / \"paper\" / \"formatt_homstrad\"\n",
    "    datasets = list(filter(lambda s: s.endswith(\".raw.fa\"), os.listdir(bench_dir)))\n",
    "    print(len(datasets))\n",
    "\n",
    "    transfer = []\n",
    "    ns = []\n",
    "    ks = []\n",
    "    for dataset in tqdm(datasets):\n",
    "        seqs = list(SeqIO.parse(bench_dir / dataset, format=\"fasta\"))\n",
    "        seqs = [\n",
    "            SeqRecord(\n",
    "                Seq(str(seq.seq).upper().replace(\"-\", \"\").replace(\"U\", \"T\")),\n",
    "                id=seq.id,\n",
    "                name=\"\",\n",
    "                description=\"\",\n",
    "            )\n",
    "            for seq in seqs\n",
    "        ]\n",
    "        n = len(seqs)\n",
    "        k = min(len(seq) for seq in seqs)\n",
    "        ns.append(n)\n",
    "        ks.append(k)\n",
    "        if (n < 3) | (k < 2):\n",
    "            print(\"Problem:\", (n, k))\n",
    "            continue\n",
    "        else:\n",
    "            out_file = out_dir / dataset.rstrip(\".raw.fa\") / \"sequences.fasta\"\n",
    "            # print(out_file)\n",
    "            os.makedirs(out_file.parent, exist_ok=True)\n",
    "            SeqIO.write(seqs, out_file, \"fasta\")\n",
    "    ns = np.array(ns)\n",
    "    ks = np.array(ks)\n",
    "    print(ns.min(), ns.mean(), ns.max())\n",
    "    print(ks.min(), ks.mean(), ks.max())"
   ]
  }
 ],
 "metadata": {
  "kernelspec": {
   "display_name": "ensemblify",
   "language": "python",
   "name": "python3"
  },
  "language_info": {
   "codemirror_mode": {
    "name": "ipython",
    "version": 3
   },
   "file_extension": ".py",
   "mimetype": "text/x-python",
   "name": "python",
   "nbconvert_exporter": "python",
   "pygments_lexer": "ipython3",
   "version": "3.12.11"
  }
 },
 "nbformat": 4,
 "nbformat_minor": 5
}
