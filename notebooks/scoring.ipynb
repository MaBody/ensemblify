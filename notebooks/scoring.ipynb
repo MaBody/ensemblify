{
 "cells": [
  {
   "cell_type": "code",
   "execution_count": 20,
   "id": "0b566efc",
   "metadata": {},
   "outputs": [],
   "source": [
    "from aldiscore.scoring.pairwise import DPosDistance\n",
    "from aldiscore.datastructures.alignment import Alignment\n",
    "from aldiscore.datastructures.ensemble import Ensemble\n",
    "from aldiscore.scoring import pythia\n",
    "from Bio import AlignIO\n",
    "from pathlib import Path\n",
    "import os\n",
    "import pandas as pd\n",
    "import yaml\n",
    "\n",
    "import seaborn as sn\n",
    "import matplotlib.pyplot as plt"
   ]
  },
  {
   "cell_type": "markdown",
   "id": "d341f7ce",
   "metadata": {},
   "source": [
    "Process single source "
   ]
  },
  {
   "cell_type": "code",
   "execution_count": 21,
   "id": "329d2632",
   "metadata": {},
   "outputs": [
    {
     "data": {
      "text/html": [
       "<div>\n",
       "<style scoped>\n",
       "    .dataframe tbody tr th:only-of-type {\n",
       "        vertical-align: middle;\n",
       "    }\n",
       "\n",
       "    .dataframe tbody tr th {\n",
       "        vertical-align: top;\n",
       "    }\n",
       "\n",
       "    .dataframe thead th {\n",
       "        text-align: right;\n",
       "    }\n",
       "</style>\n",
       "<table border=\"1\" class=\"dataframe\">\n",
       "  <thead>\n",
       "    <tr style=\"text-align: right;\">\n",
       "      <th>method</th>\n",
       "      <th>dataset</th>\n",
       "      <th>datatype</th>\n",
       "      <th>dpos</th>\n",
       "      <th>pythia</th>\n",
       "    </tr>\n",
       "  </thead>\n",
       "  <tbody>\n",
       "    <tr>\n",
       "      <th>0</th>\n",
       "      <td>s1</td>\n",
       "      <td>AA</td>\n",
       "      <td>0.067253</td>\n",
       "      <td>NaN</td>\n",
       "    </tr>\n",
       "    <tr>\n",
       "      <th>1</th>\n",
       "      <td>s2</td>\n",
       "      <td>AA</td>\n",
       "      <td>0.129453</td>\n",
       "      <td>NaN</td>\n",
       "    </tr>\n",
       "  </tbody>\n",
       "</table>\n",
       "</div>"
      ],
      "text/plain": [
       "method dataset datatype      dpos  pythia\n",
       "0           s1       AA  0.067253     NaN\n",
       "1           s2       AA  0.129453     NaN"
      ]
     },
     "execution_count": 21,
     "metadata": {},
     "output_type": "execute_result"
    }
   ],
   "source": [
    "stats_path = Path(\n",
    "    \"/hits/fast/cme/bodynems/data/test_paper/test_benchout/b1/stats.parquet\"\n",
    ")\n",
    "\n",
    "stats = pd.read_parquet(stats_path)\n",
    "stats.query(\"method == 'dpos'\")[[\"mean\"]]\n",
    "plot_df = stats.reset_index()[[\"dataset\", \"mean\", \"datatype\", \"method\"]]\n",
    "plot_df = plot_df.pivot(index=[\"dataset\", \"datatype\"], columns=\"method\", values=\"mean\")\n",
    "plot_df = plot_df.reset_index()\n",
    "plot_df"
   ]
  },
  {
   "cell_type": "code",
   "execution_count": 13,
   "id": "4206488a",
   "metadata": {},
   "outputs": [
    {
     "data": {
      "text/plain": [
       "Text(0.5, 0, 'Value')"
      ]
     },
     "execution_count": 13,
     "metadata": {},
     "output_type": "execute_result"
    },
    {
     "data": {
      "image/png": "[encoded data removed]",
      "text/plain": [
       "<Figure size 640x480 with 1 Axes>"
      ]
     },
     "metadata": {},
     "output_type": "display_data"
    }
   ],
   "source": [
    "fig = plt.figure()\n",
    "sn.histplot(plot_df, x=\"pythia\", element=\"poly\", label=\"Pythia\")\n",
    "sn.histplot(plot_df, x=\"dpos\", element=\"poly\", label=\"$D_{pos}$\")\n",
    "plt.legend()\n",
    "plt.xlabel(\"Value\")"
   ]
  },
  {
   "cell_type": "code",
   "execution_count": null,
   "id": "d8d4fb61",
   "metadata": {},
   "outputs": [],
   "source": [
    "plot_df\n",
    "# fig = plt.figure()\n",
    "# sn.histplot(plot_df, x=\"pythia\", element=\"poly\", label=\"Pythia\")\n",
    "# sn.histplot(plot_df, x=\"dpos\", element=\"poly\", label=\"$D_{pos}$\")\n",
    "# plt.legend()\n",
    "# plt.xlabel(\"Value\")\n",
    "\n",
    "sn.kdeplot(\n",
    "    plot_df, x=\"dpos\", y=\"pythia\", hue=\"datatype\", fill=True, alpha=0.7, bw_adjust=0.2\n",
    ")"
   ]
  },
  {
   "cell_type": "markdown",
   "id": "575af502",
   "metadata": {},
   "source": [
    "Process multiple sources "
   ]
  },
  {
   "cell_type": "code",
   "execution_count": 22,
   "id": "53d1b635",
   "metadata": {},
   "outputs": [
    {
     "data": {
      "text/html": [
       "<div>\n",
       "<style scoped>\n",
       "    .dataframe tbody tr th:only-of-type {\n",
       "        vertical-align: middle;\n",
       "    }\n",
       "\n",
       "    .dataframe tbody tr th {\n",
       "        vertical-align: top;\n",
       "    }\n",
       "\n",
       "    .dataframe thead th {\n",
       "        text-align: right;\n",
       "    }\n",
       "</style>\n",
       "<table border=\"1\" class=\"dataframe\">\n",
       "  <thead>\n",
       "    <tr style=\"text-align: right;\">\n",
       "      <th>method</th>\n",
       "      <th>source</th>\n",
       "      <th>dataset</th>\n",
       "      <th>datatype</th>\n",
       "      <th>dpos</th>\n",
       "      <th>pythia</th>\n",
       "    </tr>\n",
       "  </thead>\n",
       "  <tbody>\n",
       "    <tr>\n",
       "      <th>0</th>\n",
       "      <td>b1</td>\n",
       "      <td>s1</td>\n",
       "      <td>AA</td>\n",
       "      <td>0.067253</td>\n",
       "      <td>NaN</td>\n",
       "    </tr>\n",
       "    <tr>\n",
       "      <th>1</th>\n",
       "      <td>b1</td>\n",
       "      <td>s2</td>\n",
       "      <td>AA</td>\n",
       "      <td>0.129453</td>\n",
       "      <td>NaN</td>\n",
       "    </tr>\n",
       "    <tr>\n",
       "      <th>2</th>\n",
       "      <td>b2</td>\n",
       "      <td>s3</td>\n",
       "      <td>AA</td>\n",
       "      <td>0.067220</td>\n",
       "      <td>NaN</td>\n",
       "    </tr>\n",
       "    <tr>\n",
       "      <th>3</th>\n",
       "      <td>b2</td>\n",
       "      <td>s4</td>\n",
       "      <td>AA</td>\n",
       "      <td>0.126850</td>\n",
       "      <td>NaN</td>\n",
       "    </tr>\n",
       "  </tbody>\n",
       "</table>\n",
       "</div>"
      ],
      "text/plain": [
       "method source dataset datatype      dpos  pythia\n",
       "0          b1      s1       AA  0.067253     NaN\n",
       "1          b1      s2       AA  0.129453     NaN\n",
       "2          b2      s3       AA  0.067220     NaN\n",
       "3          b2      s4       AA  0.126850     NaN"
      ]
     },
     "execution_count": 22,
     "metadata": {},
     "output_type": "execute_result"
    }
   ],
   "source": [
    "sources = [\"b1\", \"b2\"]\n",
    "dfs = []\n",
    "for source in sources:\n",
    "    stats_path = Path(\n",
    "        f\"/hits/fast/cme/bodynems/data/test_paper/test_benchout/{source}/stats.parquet\"\n",
    "    )\n",
    "\n",
    "    dfs.append(pd.read_parquet(stats_path))\n",
    "\n",
    "stats = pd.concat(dfs)\n",
    "stats.query(\"method == 'dpos'\")[[\"mean\"]]\n",
    "plot_df = stats.reset_index()[[\"source\", \"dataset\", \"mean\", \"datatype\", \"method\"]]\n",
    "plot_df = plot_df.pivot(\n",
    "    index=[\"source\", \"dataset\", \"datatype\"], columns=\"method\", values=\"mean\"\n",
    ")\n",
    "plot_df = plot_df.reset_index()\n",
    "plot_df"
   ]
  },
  {
   "cell_type": "code",
   "execution_count": 4,
   "id": "a37f53e8",
   "metadata": {},
   "outputs": [
    {
     "name": "stdout",
     "output_type": "stream",
     "text": [
      "DNA\n"
     ]
    },
    {
     "ename": "KeyboardInterrupt",
     "evalue": "",
     "output_type": "error",
     "traceback": [
      "\u001b[31m---------------------------------------------------------------------------\u001b[39m",
      "\u001b[31mKeyboardInterrupt\u001b[39m                         Traceback (most recent call last)",
      "\u001b[36mCell\u001b[39m\u001b[36m \u001b[39m\u001b[32mIn[4]\u001b[39m\u001b[32m, line 14\u001b[39m\n\u001b[32m     12\u001b[39m \u001b[38;5;28mprint\u001b[39m(infer_data_type(ensemble.dataset.records))\n\u001b[32m     13\u001b[39m measure = DPosDistance(\u001b[38;5;28mformat\u001b[39m=\u001b[33m\"\u001b[39m\u001b[33mmatrix\u001b[39m\u001b[33m\"\u001b[39m)\n\u001b[32m---> \u001b[39m\u001b[32m14\u001b[39m score = \u001b[43mmeasure\u001b[49m\u001b[43m.\u001b[49m\u001b[43mcompute\u001b[49m\u001b[43m(\u001b[49m\u001b[43mensemble\u001b[49m\u001b[43m)\u001b[49m\n\u001b[32m     15\u001b[39m \u001b[38;5;28mprint\u001b[39m(score.round(\u001b[32m2\u001b[39m))\n\u001b[32m     17\u001b[39m phylo = pythia.compute_pythia_difficulty(ensemble, raxml_path)\n",
      "\u001b[36mFile \u001b[39m\u001b[32m/hits/fast/cme/bodynems/aldiscore/aldiscore/scoring/pairwise.py:87\u001b[39m, in \u001b[36m_Metric.compute\u001b[39m\u001b[34m(self, ensemble, reference)\u001b[39m\n\u001b[32m     70\u001b[39m \u001b[38;5;250m\u001b[39m\u001b[33;03m\"\"\"\u001b[39;00m\n\u001b[32m     71\u001b[39m \u001b[33;03mCompute pairwise distance scores for all pairs in an ensemble.\u001b[39;00m\n\u001b[32m     72\u001b[39m \n\u001b[32m   (...)\u001b[39m\u001b[32m     83\u001b[39m \u001b[33;03m    Array of pairwise distances.\u001b[39;00m\n\u001b[32m     84\u001b[39m \u001b[33;03m\"\"\"\u001b[39;00m\n\u001b[32m     86\u001b[39m \u001b[38;5;28;01mif\u001b[39;00m reference \u001b[38;5;129;01mis\u001b[39;00m \u001b[38;5;28;01mNone\u001b[39;00m:\n\u001b[32m---> \u001b[39m\u001b[32m87\u001b[39m     \u001b[38;5;28;01mreturn\u001b[39;00m \u001b[38;5;28;43mself\u001b[39;49m\u001b[43m.\u001b[49m\u001b[43m_compute_ensemble\u001b[49m\u001b[43m(\u001b[49m\u001b[43mensemble\u001b[49m\u001b[43m)\u001b[49m\n\u001b[32m     88\u001b[39m \u001b[38;5;28;01melse\u001b[39;00m:\n\u001b[32m     89\u001b[39m     \u001b[38;5;28;01massert\u001b[39;00m (\n\u001b[32m     90\u001b[39m         \u001b[38;5;28mself\u001b[39m._format != \u001b[33m\"\u001b[39m\u001b[33mmatrix\u001b[39m\u001b[33m\"\u001b[39m\n\u001b[32m     91\u001b[39m     ), \u001b[33m\"\u001b[39m\u001b[33mReference-based score only supports scalar and flat format\u001b[39m\u001b[33m\"\u001b[39m\n",
      "\u001b[36mFile \u001b[39m\u001b[32m/hits/fast/cme/bodynems/aldiscore/aldiscore/scoring/pairwise.py:111\u001b[39m, in \u001b[36m_Metric._compute_ensemble\u001b[39m\u001b[34m(self, ensemble)\u001b[39m\n\u001b[32m    109\u001b[39m index_pairs = \u001b[38;5;28mlist\u001b[39m(itertools.combinations(\u001b[38;5;28mrange\u001b[39m(\u001b[38;5;28mlen\u001b[39m(ensemble.alignments)), r=\u001b[32m2\u001b[39m))\n\u001b[32m    110\u001b[39m \u001b[38;5;28;01mfor\u001b[39;00m idx_x, idx_y \u001b[38;5;129;01min\u001b[39;00m index_pairs:\n\u001b[32m--> \u001b[39m\u001b[32m111\u001b[39m     score = \u001b[38;5;28;43mself\u001b[39;49m\u001b[43m.\u001b[49m\u001b[43mcompute_similarity\u001b[49m\u001b[43m(\u001b[49m\n\u001b[32m    112\u001b[39m \u001b[43m        \u001b[49m\u001b[43mensemble\u001b[49m\u001b[43m.\u001b[49m\u001b[43malignments\u001b[49m\u001b[43m[\u001b[49m\u001b[43midx_x\u001b[49m\u001b[43m]\u001b[49m\u001b[43m,\u001b[49m\n\u001b[32m    113\u001b[39m \u001b[43m        \u001b[49m\u001b[43mensemble\u001b[49m\u001b[43m.\u001b[49m\u001b[43malignments\u001b[49m\u001b[43m[\u001b[49m\u001b[43midx_y\u001b[49m\u001b[43m]\u001b[49m\u001b[43m,\u001b[49m\n\u001b[32m    114\u001b[39m \u001b[43m    \u001b[49m\u001b[43m)\u001b[49m\n\u001b[32m    115\u001b[39m     scores.append(score)\n\u001b[32m    117\u001b[39m \u001b[38;5;28;01mmatch\u001b[39;00m \u001b[38;5;28mself\u001b[39m._format:\n",
      "\u001b[36mFile \u001b[39m\u001b[32m/hits/fast/cme/bodynems/aldiscore/aldiscore/scoring/pairwise.py:424\u001b[39m, in \u001b[36mDPosDistance.compute_similarity\u001b[39m\u001b[34m(self, alignment_x, alignment_y)\u001b[39m\n\u001b[32m    408\u001b[39m \u001b[38;5;250m\u001b[39m\u001b[33;03m\"\"\"\u001b[39;00m\n\u001b[32m    409\u001b[39m \u001b[33;03mCompute the \"D_pos\" distance between two alignments.\u001b[39;00m\n\u001b[32m    410\u001b[39m \n\u001b[32m   (...)\u001b[39m\u001b[32m    421\u001b[39m \u001b[33;03m    The D_pos distance.\u001b[39;00m\n\u001b[32m    422\u001b[39m \u001b[33;03m\"\"\"\u001b[39;00m\n\u001b[32m    423\u001b[39m \u001b[38;5;28mself\u001b[39m._init_key_map(alignment_x, alignment_y)\n\u001b[32m--> \u001b[39m\u001b[32m424\u001b[39m \u001b[38;5;28;01mreturn\u001b[39;00m \u001b[38;5;28;43mself\u001b[39;49m\u001b[43m.\u001b[49m\u001b[43m_avg_hamming_dist\u001b[49m\u001b[43m(\u001b[49m\u001b[43mPositionalEncodingEnum\u001b[49m\u001b[43m.\u001b[49m\u001b[43mPOSITION\u001b[49m\u001b[43m)\u001b[49m\n",
      "\u001b[36mFile \u001b[39m\u001b[32m/hits/fast/cme/bodynems/aldiscore/aldiscore/scoring/pairwise.py:328\u001b[39m, in \u001b[36m_HomologySetMetric._avg_hamming_dist\u001b[39m\u001b[34m(self, encoding_enum)\u001b[39m\n\u001b[32m    325\u001b[39m     \u001b[38;5;28;01mreturn\u001b[39;00m hcols_list, K, L_k_list\n\u001b[32m    327\u001b[39m hcols_x_list, K, L_k_list = \u001b[38;5;28mself\u001b[39m._get_from_cache(\u001b[38;5;28mself\u001b[39m._key_x, from_scratch)\n\u001b[32m--> \u001b[39m\u001b[32m328\u001b[39m hcols_y_list, K, L_k_list = \u001b[38;5;28;43mself\u001b[39;49m\u001b[43m.\u001b[49m\u001b[43m_get_from_cache\u001b[49m\u001b[43m(\u001b[49m\u001b[38;5;28;43mself\u001b[39;49m\u001b[43m.\u001b[49m\u001b[43m_key_y\u001b[49m\u001b[43m,\u001b[49m\u001b[43m \u001b[49m\u001b[43mfrom_scratch\u001b[49m\u001b[43m)\u001b[49m\n\u001b[32m    330\u001b[39m norm_hamming_dist = []\n\u001b[32m    331\u001b[39m \u001b[38;5;28;01mfor\u001b[39;00m k \u001b[38;5;129;01min\u001b[39;00m \u001b[38;5;28mrange\u001b[39m(\u001b[38;5;28mlen\u001b[39m(hcols_x_list)):\n",
      "\u001b[36mFile \u001b[39m\u001b[32m/hits/fast/cme/bodynems/aldiscore/aldiscore/scoring/pairwise.py:229\u001b[39m, in \u001b[36m_Metric._get_from_cache\u001b[39m\u001b[34m(self, key, compute_cachables, **kwargs)\u001b[39m\n\u001b[32m    227\u001b[39m     out = cached_content\n\u001b[32m    228\u001b[39m \u001b[38;5;28;01melse\u001b[39;00m:\n\u001b[32m--> \u001b[39m\u001b[32m229\u001b[39m     out = \u001b[43mcompute_cachables\u001b[49m\u001b[43m(\u001b[49m\u001b[43mkey\u001b[49m\u001b[43m,\u001b[49m\u001b[43m \u001b[49m\u001b[43m*\u001b[49m\u001b[43m*\u001b[49m\u001b[43mkwargs\u001b[49m\u001b[43m)\u001b[49m\n\u001b[32m    231\u001b[39m \u001b[38;5;28;01mif\u001b[39;00m use_cache \u001b[38;5;129;01mand\u001b[39;00m (cached_content \u001b[38;5;129;01mis\u001b[39;00m \u001b[38;5;28;01mNone\u001b[39;00m):\n\u001b[32m    232\u001b[39m     \u001b[38;5;28mself\u001b[39m._cache[\u001b[38;5;28mself\u001b[39m.name][key] = out\n",
      "\u001b[36mFile \u001b[39m\u001b[32m/hits/fast/cme/bodynems/aldiscore/aldiscore/scoring/pairwise.py:321\u001b[39m, in \u001b[36m_HomologySetMetric._avg_hamming_dist.<locals>.from_scratch\u001b[39m\u001b[34m(key)\u001b[39m\n\u001b[32m    319\u001b[39m \u001b[38;5;28;01mdef\u001b[39;00m\u001b[38;5;250m \u001b[39m\u001b[34mfrom_scratch\u001b[39m(key):\n\u001b[32m    320\u001b[39m     S, Q, K, L_k_list, L_max = \u001b[38;5;28mself\u001b[39m._get_metric_prerequisites(key)\n\u001b[32m--> \u001b[39m\u001b[32m321\u001b[39m     A_code = \u001b[43mencoding\u001b[49m\u001b[43m.\u001b[49m\u001b[43mencode_positions\u001b[49m\u001b[43m(\u001b[49m\u001b[43mS\u001b[49m\u001b[43m,\u001b[49m\u001b[43m \u001b[49m\u001b[43mencoding_enum\u001b[49m\u001b[43m,\u001b[49m\u001b[43m \u001b[49m\u001b[43mint_dtype\u001b[49m\u001b[43m=\u001b[49m\u001b[38;5;28;43mself\u001b[39;49m\u001b[43m.\u001b[49m\u001b[43m_dtype\u001b[49m\u001b[43m)\u001b[49m\n\u001b[32m    322\u001b[39m     hcols_list = []\n\u001b[32m    323\u001b[39m     \u001b[38;5;28;01mfor\u001b[39;00m k \u001b[38;5;129;01min\u001b[39;00m \u001b[38;5;28mrange\u001b[39m(K):\n",
      "\u001b[36mFile \u001b[39m\u001b[32m/hits/fast/cme/bodynems/aldiscore/aldiscore/scoring/encoding.py:121\u001b[39m, in \u001b[36mencode_positions\u001b[39m\u001b[34m(A, encoding, int_dtype)\u001b[39m\n\u001b[32m    118\u001b[39m     \u001b[38;5;28;01mcase\u001b[39;00m\u001b[38;5;250m \u001b[39m\u001b[38;5;28;01m_\u001b[39;00m:\n\u001b[32m    119\u001b[39m         \u001b[38;5;28;01mraise\u001b[39;00m \u001b[38;5;167;01mValueError\u001b[39;00m(encoding)\n\u001b[32m--> \u001b[39m\u001b[32m121\u001b[39m site_codes = \u001b[43mnp\u001b[49m\u001b[43m.\u001b[49m\u001b[43mwhere\u001b[49m\u001b[43m(\u001b[49m\u001b[43mgap_mask\u001b[49m\u001b[43m,\u001b[49m\u001b[43m \u001b[49m\u001b[43mgap_encoding\u001b[49m\u001b[43m,\u001b[49m\u001b[43m \u001b[49m\u001b[43msite_encoding\u001b[49m\u001b[43m)\u001b[49m\u001b[43m.\u001b[49m\u001b[43mastype\u001b[49m\u001b[43m(\u001b[49m\u001b[43mint_dtype\u001b[49m\u001b[43m)\u001b[49m\n\u001b[32m    122\u001b[39m \u001b[38;5;28;01mreturn\u001b[39;00m site_codes\n",
      "\u001b[31mKeyboardInterrupt\u001b[39m: "
     ]
    }
   ],
   "source": [
    "from ensemblify.utils import infer_data_type\n",
    "\n",
    "raxml_path = yaml.safe_load(open(\"../configs/general.yaml\", \"r\"))[\"general\"][\"raxml\"]\n",
    "raxml_path = Path(raxml_path)\n",
    "ens_dir = Path(\"/hits/fast/cme/bodynems/data/paper/treebase_v1/26669_21.phy/ensemble\")\n",
    "alignments = []\n",
    "for msa_file in os.listdir(ens_dir):\n",
    "    alignment = Alignment(AlignIO.read(ens_dir / msa_file, \"fasta\"))\n",
    "    alignments.append(alignment)\n",
    "\n",
    "ensemble = Ensemble(alignments)\n",
    "print(infer_data_type(ensemble.dataset.records))\n",
    "measure = DPosDistance(format=\"matrix\")\n",
    "score = measure.compute(ensemble)\n",
    "print(score.round(2))\n",
    "\n",
    "phylo = pythia.compute_pythia_difficulty(ensemble, raxml_path)\n",
    "phylo\n",
    "# AlignIO.read()"
   ]
  }
 ],
 "metadata": {
  "kernelspec": {
   "display_name": "ensemblify",
   "language": "python",
   "name": "python3"
  },
  "language_info": {
   "codemirror_mode": {
    "name": "ipython",
    "version": 3
   },
   "file_extension": ".py",
   "mimetype": "text/x-python",
   "name": "python",
   "nbconvert_exporter": "python",
   "pygments_lexer": "ipython3",
   "version": "3.12.11"
  }
 },
 "nbformat": 4,
 "nbformat_minor": 5
}
