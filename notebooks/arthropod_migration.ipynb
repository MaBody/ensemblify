{
 "cells": [
  {
   "cell_type": "code",
   "execution_count": null,
   "id": "cebbbd66",
   "metadata": {},
   "outputs": [
    {
     "name": "stdout",
     "output_type": "stream",
     "text": [
      "44LK4\n",
      "44\n",
      "LK\n",
      "4\n"
     ]
    }
   ],
   "source": [
    "from Bio import SeqIO\n",
    "from pathlib import Path\n",
    "from Bio.SeqRecord import SeqRecord\n",
    "import pandas as pd\n",
    "import re\n",
    "import os\n",
    "\n",
    "\n",
    "identifier = r\"CYP[\\d+][A-Z+][\\d+]\"\n",
    "# pattern_family = re.compile(r\"(?<=CYP)[\\d]+\")\n",
    "pattern_id = re.compile(r\"(?<=CYP)[\\d]+[A-Z]+[\\d]+\")\n",
    "pattern_fam = re.compile(r\"^[\\d]+\")\n",
    "pattern_subfam = re.compile(r\"[A-Z]+\")\n",
    "pattern_gene = re.compile(r\"[\\d]+$\")\n",
    "\n",
    "test = \"CYP44LK4\"\n",
    "# print(re.search(pattern_family, test).group())\n",
    "print(re.search(pattern_id, test).group())\n",
    "test = \"44LK4\"\n",
    "print(re.search(pattern_fam, test).group())\n",
    "print(re.search(pattern_subfam, test).group())\n",
    "print(re.search(pattern_gene, test).group())\n",
    "\n",
    "\n",
    "def match_or_none(pattern, s):\n",
    "    try:\n",
    "        out = re.search(pattern, s).group()\n",
    "    except:\n",
    "        out = None\n",
    "    return out"
   ]
  },
  {
   "cell_type": "code",
   "execution_count": 12,
   "id": "6b6cc546",
   "metadata": {},
   "outputs": [
    {
     "name": "stdout",
     "output_type": "stream",
     "text": [
      "11118\n"
     ]
    }
   ],
   "source": [
    "data_dir = Path(\"/hits/fast/cme/bodynems/data\")\n",
    "seqs: list[SeqRecord] = list(\n",
    "    SeqIO.parse(data_dir / \"backup\" / \"arthropod.fasta\", format=\"fasta\")\n",
    ")\n",
    "print(len(seqs))\n",
    "\n",
    "stats = []\n",
    "for seq in seqs:\n",
    "    stats.append([seq.id, len(seq)])\n",
    "\n",
    "stats_df = pd.DataFrame(stats, columns=[\"id_full\", \"length\"])"
   ]
  },
  {
   "cell_type": "code",
   "execution_count": null,
   "id": "fdc9935e",
   "metadata": {},
   "outputs": [
    {
     "data": {
      "text/plain": [
       "[SeqRecord(seq=Seq('MMDFFGIPAYILFPLGLFLAFYLYMTRNYGYWKNRGIPEVPPRFLVGSIGWNIK...LRK'), id='Centruroides_sculpturatus-CYP41T3_clan3', name='Centruroides_sculpturatus-CYP41T3_clan3', description='Centruroides_sculpturatus-CYP41T3_clan3', dbxrefs=[]),\n",
       " SeqRecord(seq=Seq('MEFTTKYFQPYWIIGLFIALICIIYTYLSIVYSYWKRRGIPSPKTTWLLGSYGT...CRN'), id='Centruroides_sculpturatus-CYP41R2_clan3', name='Centruroides_sculpturatus-CYP41R2_clan3', description='Centruroides_sculpturatus-CYP41R2_clan3', dbxrefs=[]),\n",
       " SeqRecord(seq=Seq('MDYFLFLLSTYWIIGFFIALISVTYIYLSIVYSYWKRRGIPSPKTTWLLGSYGT...CRN'), id='Centruroides_sculpturatus-CYP41R1_clan3', name='Centruroides_sculpturatus-CYP41R1_clan3', description='Centruroides_sculpturatus-CYP41R1_clan3', dbxrefs=[]),\n",
       " SeqRecord(seq=Seq('MLWLLSSIILIFTIYLCLTRTYGYWEKRGIPYVKPILLFGSYGIQWNKPQGYVE...RNS'), id='Centruroides_sculpturatus-CYP41S1_clan3', name='Centruroides_sculpturatus-CYP41S1_clan3', description='Centruroides_sculpturatus-CYP41S1_clan3', dbxrefs=[]),\n",
       " SeqRecord(seq=Seq('MTYIFGVFDYVLVFIGILISFYLYMTKDFGYWKKRGIPEVPPKFLVGSIGYNFK...LRK'), id='Centruroides_sculpturatus-CYP41T2_clan3', name='Centruroides_sculpturatus-CYP41T2_clan3', description='Centruroides_sculpturatus-CYP41T2_clan3', dbxrefs=[]),\n",
       " SeqRecord(seq=Seq('MAIDGAITSLLILAAILLYCLYKFFKKNNNFWESQGVCVVKKHPILGSFNVMLL...FHQ'), id='Centruroides_sculpturatus-CYP41N1_clan3', name='Centruroides_sculpturatus-CYP41N1_clan3', description='Centruroides_sculpturatus-CYP41N1_clan3', dbxrefs=[]),\n",
       " SeqRecord(seq=Seq('MDTIDILAWFFTILLALLIYRGYLLKPLRFWELQNVRTIKSLKCTSAKFLHEAE...FRE'), id='Centruroides_sculpturatus-CYP41M1_clan3', name='Centruroides_sculpturatus-CYP41M1_clan3', description='Centruroides_sculpturatus-CYP41M1_clan3', dbxrefs=[]),\n",
       " SeqRecord(seq=Seq('MDFFGIPAYILFPLGLFLAFYLYMTRNFGYWKNRGIPEVPPRFLVGSIGWNIKC...LRK'), id='Centruroides_sculpturatus-CYP41T4_clan3', name='Centruroides_sculpturatus-CYP41T4_clan3', description='Centruroides_sculpturatus-CYP41T4_clan3', dbxrefs=[]),\n",
       " SeqRecord(seq=Seq('MVVILFYIYMEKKFRYWKEQGVESQTKLEFLTGTIAALGMSFHENVINTYKRHG...RFH'), id='Centruroides_sculpturatus-CYP41P2_clan3', name='Centruroides_sculpturatus-CYP41P2_clan3', description='Centruroides_sculpturatus-CYP41P2_clan3', dbxrefs=[]),\n",
       " SeqRecord(seq=Seq('MDVGFGFSLPNWLLLASTVIILFYIYVEKKFRYWKDQGVESQTKLEFLIGTIRA...RFH'), id='Centruroides_sculpturatus-CYP41P3_clan3', name='Centruroides_sculpturatus-CYP41P3_clan3', description='Centruroides_sculpturatus-CYP41P3_clan3', dbxrefs=[]),\n",
       " SeqRecord(seq=Seq('MVVILFYIYVEKKFRYWKEQGVESDTKLEFVTGTIAALRKPFHEVILAAYKKHG...RFH'), id='Centruroides_sculpturatus-CYP41P4_clan3', name='Centruroides_sculpturatus-CYP41P4_clan3', description='Centruroides_sculpturatus-CYP41P4_clan3', dbxrefs=[]),\n",
       " SeqRecord(seq=Seq('MELDFIYNIFNWIIISAAIFIFLCVYVNRYFNFWEKHGIPSPTTNIWSFLTGLY...RRK'), id='Centruroides_sculpturatus-CYP41Q5_clan3', name='Centruroides_sculpturatus-CYP41Q5_clan3', description='Centruroides_sculpturatus-CYP41Q5_clan3', dbxrefs=[]),\n",
       " SeqRecord(seq=Seq('MELLEICNYKWFIFFVLVLLLSFLYVNRYFKFWERHRIPTPTTNIWSFLSELYR...KRK'), id='Centruroides_sculpturatus-CYP41Q4_clan3', name='Centruroides_sculpturatus-CYP41Q4_clan3', description='Centruroides_sculpturatus-CYP41Q4_clan3', dbxrefs=[]),\n",
       " SeqRecord(seq=Seq('MELSEICNYKWFIFFVLVLLLCILYVKKRVTYWKNHGVPSLTTGIWSFLVALRT...KQR'), id='Centruroides_sculpturatus-CYP41Q3_clan3', name='Centruroides_sculpturatus-CYP41Q3_clan3', description='Centruroides_sculpturatus-CYP41Q3_clan3', dbxrefs=[]),\n",
       " SeqRecord(seq=Seq('MRNAFGLKEKKYIKRKLHYWTNQGIQTPVDGIWSVIKGIYNIRYKPVHLLVTEQ...KRK'), id='Centruroides_sculpturatus-CYP41Q1_clan3', name='Centruroides_sculpturatus-CYP41Q1_clan3', description='Centruroides_sculpturatus-CYP41Q1_clan3', dbxrefs=[]),\n",
       " SeqRecord(seq=Seq('MELNQFIPSTWITLIASVLLLCLIYQNRKFQYWKQQGIQCAINGICSFVLETTK...RRK'), id='Centruroides_sculpturatus-CYP41Q2_clan3', name='Centruroides_sculpturatus-CYP41Q2_clan3', description='Centruroides_sculpturatus-CYP41Q2_clan3', dbxrefs=[]),\n",
       " SeqRecord(seq=Seq('MAYITPISYYILIPVGILLLIYLFLTKHFDYWYNLGIPEVPPIIFTGSKGLDFR...LIT'), id='Centruroides_sculpturatus-CYP41T5a_clan3', name='Centruroides_sculpturatus-CYP41T5a_clan3', description='Centruroides_sculpturatus-CYP41T5a_clan3', dbxrefs=[]),\n",
       " SeqRecord(seq=Seq('MADLYGISYYVLILFGIFLALYLYLTRYFGYWSKLGVPEVPPMIFTGSMRLDFS...IRK'), id='Centruroides_sculpturatus-CYP41T6a_clan3', name='Centruroides_sculpturatus-CYP41T6a_clan3', description='Centruroides_sculpturatus-CYP41T6a_clan3', dbxrefs=[]),\n",
       " SeqRecord(seq=Seq('MEVGFGIDIPTWLILICTTFIFYYIYIDRKFRYWENQGVKSQTKVEFLKSAIQG...QFN'), id='Centruroides_sculpturatus-CYP41P1_clan3', name='Centruroides_sculpturatus-CYP41P1_clan3', description='Centruroides_sculpturatus-CYP41P1_clan3', dbxrefs=[]),\n",
       " SeqRecord(seq=Seq('MVVILFYIYVEKKFSYWKEQGVESQTKLQFLTGTIAAFRKPIHEIVLSTYKNHG...RLH'), id='Centruroides_sculpturatus-CYP41P5_clan3', name='Centruroides_sculpturatus-CYP41P5_clan3', description='Centruroides_sculpturatus-CYP41P5_clan3', dbxrefs=[]),\n",
       " SeqRecord(seq=Seq('MADVYGIPDYVIFLLGTVILLYLYLTRNFGFWKSRGIPEVPPMIFTGSVGLDFK...ERK'), id='Centruroides_sculpturatus-CYP41T1_clan3', name='Centruroides_sculpturatus-CYP41T1_clan3', description='Centruroides_sculpturatus-CYP41T1_clan3', dbxrefs=[]),\n",
       " SeqRecord(seq=Seq('MADFYGIPFYIIFPVMIFVSFYLYVTRNFGYWKRLGIPEVTPMPFTGSFKFDFY...KSL'), id='Centruroides_sculpturatus-CYP41T9_clan3', name='Centruroides_sculpturatus-CYP41T9_clan3', description='Centruroides_sculpturatus-CYP41T9_clan3', dbxrefs=[]),\n",
       " SeqRecord(seq=Seq('MPDICGIPYYVFIPVGIFIALYLYLTRNFGYWKRLGIPEVPPLPLTGSFRFDLS...QQE'), id='Centruroides_sculpturatus-CYP41T7_clan3', name='Centruroides_sculpturatus-CYP41T7_clan3', description='Centruroides_sculpturatus-CYP41T7_clan3', dbxrefs=[]),\n",
       " SeqRecord(seq=Seq('MTDFYGIPYSVLIPIGIFLALYLYLTRNFGYWKRLGIPEVPPIPLTGSFRFDLN...QQE'), id='Centruroides_sculpturatus-CYP41T8_clan3', name='Centruroides_sculpturatus-CYP41T8_clan3', description='Centruroides_sculpturatus-CYP41T8_clan3', dbxrefs=[]),\n",
       " SeqRecord(seq=Seq('MDMYGIPYYILIPVGIFISLYLYATRNFGYWKRLGIPEVPPIPITGSFKFDLTS...RRN'), id='Centruroides_sculpturatus-CYP41T10_clan3', name='Centruroides_sculpturatus-CYP41T10_clan3', description='Centruroides_sculpturatus-CYP41T10_clan3', dbxrefs=[]),\n",
       " SeqRecord(seq=Seq('MAYITPISYYILIPVGILLLIYLFLTKHFDYWYNLGIPEVPPIIFTGSKGLDFR...LIT'), id='Centruroides_sculpturatus-CYP41T5b_clan3', name='Centruroides_sculpturatus-CYP41T5b_clan3', description='Centruroides_sculpturatus-CYP41T5b_clan3', dbxrefs=[]),\n",
       " SeqRecord(seq=Seq('MADLYGISYYVLILFGIFLALYLYLTRYFGYWSKLGVPEVPPMIFTGSMRLDFS...IRK'), id='Centruroides_sculpturatus-CYP41T6b_clan3', name='Centruroides_sculpturatus-CYP41T6b_clan3', description='Centruroides_sculpturatus-CYP41T6b_clan3', dbxrefs=[]),\n",
       " SeqRecord(seq=Seq('MLVKASVVLYFSVLLSPCLYACRYRNYWIKQKLVHEEFSLLLGPLRKVLITARP...NAN'), id='Ixodes_scapularis-CYP41C7_clan3', name='Ixodes_scapularis-CYP41C7_clan3', description='Ixodes_scapularis-CYP41C7_clan3', dbxrefs=[]),\n",
       " SeqRecord(seq=Seq('MESLTNFPLAASVLLVGTVLILLYLYLARFRNHWKDQHVPHESYALLFGPMLKM...KRS'), id='Ixodes_scapularis-CYP41C1_clan3', name='Ixodes_scapularis-CYP41C1_clan3', description='Ixodes_scapularis-CYP41C1_clan3', dbxrefs=[]),\n",
       " SeqRecord(seq=Seq('MNLFGVFSVPDWIILITTLVVSAYLYVARHRNYWKNQNVPHEKYSIFGHTRRMM...RTS'), id='Ixodes_scapularis-CYP41C2_clan3', name='Ixodes_scapularis-CYP41C2_clan3', description='Ixodes_scapularis-CYP41C2_clan3', dbxrefs=[]),\n",
       " SeqRecord(seq=Seq('MQVFSYFSVPEWVPLSLAIGCLLFLHASRYRNYWKDQNVPHEQFSLFFGSTFQL...RKL'), id='Ixodes_scapularis-CYP41A2v1_clan3', name='Ixodes_scapularis-CYP41A2v1_clan3', description='Ixodes_scapularis-CYP41A2v1_clan3', dbxrefs=[]),\n",
       " SeqRecord(seq=Seq('MLFFGWLIIPEWLIGLALLGIVIYLRATRHKNYWKNQNVPYEKLSLFFGTTLQF...RDS'), id='Ixodes_scapularis-CYP41U1v1_clan3', name='Ixodes_scapularis-CYP41U1v1_clan3', description='Ixodes_scapularis-CYP41U1v1_clan3', dbxrefs=[]),\n",
       " SeqRecord(seq=Seq('MKCMGDLDWILLLLTALVLLYLYAARYRNYWKDQNVVHENFSLIFGAARRMLFK...RTT'), id='Ixodes_scapularis-CYP41C14_clan3', name='Ixodes_scapularis-CYP41C14_clan3', description='Ixodes_scapularis-CYP41C14_clan3', dbxrefs=[]),\n",
       " SeqRecord(seq=Seq('MQVFSYFSVPEWVPLSLAIGCLLFLHASRYRNYWKYQNVPHEQFSLFFGSTFQL...RKL'), id='Ixodes_scapularis-CYP41A2v2_clan3', name='Ixodes_scapularis-CYP41A2v2_clan3', description='Ixodes_scapularis-CYP41A2v2_clan3', dbxrefs=[]),\n",
       " SeqRecord(seq=Seq('MLFFGWLIIPEWLIGLALLGIVIYLRATRHKNYWKNQNVPYEKLSLFFGTTLQF...RDS'), id='Ixodes_scapularis-CYP41U1v2_clan3', name='Ixodes_scapularis-CYP41U1v2_clan3', description='Ixodes_scapularis-CYP41U1v2_clan3', dbxrefs=[]),\n",
       " SeqRecord(seq=Seq('MELLGYYILPNWMIVVLSAFTLLYMYLSRNKNYWKDQNIVHQKLSLSFVPLLKF...KPR'), id='Ixodes_scapularis-CYP41C16_clan3', name='Ixodes_scapularis-CYP41C16_clan3', description='Ixodes_scapularis-CYP41C16_clan3', dbxrefs=[]),\n",
       " SeqRecord(seq=Seq('MELLGYYILPNWMIVVLSAFTLLYMYLSRNKNYWKDQNIVHQKFSLSFVPLLKF...KPR'), id='Ixodes_scapularis-CYP41C18a_clan3', name='Ixodes_scapularis-CYP41C18a_clan3', description='Ixodes_scapularis-CYP41C18a_clan3', dbxrefs=[]),\n",
       " SeqRecord(seq=Seq('MKFLGVPDWIILVATALVLLYLYAARHRNYWKDQNVIQEEFSLIFAAVRRMMFK...RTA'), id='Ixodes_scapularis-CYP41C17_clan3', name='Ixodes_scapularis-CYP41C17_clan3', description='Ixodes_scapularis-CYP41C17_clan3', dbxrefs=[]),\n",
       " SeqRecord(seq=Seq('MQFFGFLDWILLVVAAIGLLYLYLSRHRNYWKDQNVVHEKYSLILGPISRFLFK...RPL'), id='Ixodes_scapularis-CYP41C19_clan3', name='Ixodes_scapularis-CYP41C19_clan3', description='Ixodes_scapularis-CYP41C19_clan3', dbxrefs=[]),\n",
       " SeqRecord(seq=Seq('MELLGYYILPNWIIVVLSAFTLLYIYLARNKNYWRDQNIVHRKLSLSFVPLLKF...KPR'), id='Ixodes_scapularis-CYP41C9v1_clan3', name='Ixodes_scapularis-CYP41C9v1_clan3', description='Ixodes_scapularis-CYP41C9v1_clan3', dbxrefs=[]),\n",
       " SeqRecord(seq=Seq('MKFLGVPDWIVLAVTALALLYMYAARYRNYWKKQNVVHENFSLIFSAVKRMMPR...CSC'), id='Ixodes_scapularis-CYP41C15_clan3', name='Ixodes_scapularis-CYP41C15_clan3', description='Ixodes_scapularis-CYP41C15_clan3', dbxrefs=[]),\n",
       " SeqRecord(seq=Seq('MLFFGFVDWIILVVTAIALLYLYASRHRNYWKDQNVVHEKYSLVLGPISRFFFK...TGL'), id='Ixodes_scapularis-CYP41C13_clan3', name='Ixodes_scapularis-CYP41C13_clan3', description='Ixodes_scapularis-CYP41C13_clan3', dbxrefs=[]),\n",
       " SeqRecord(seq=Seq('MKLLGLPDWTVLVITFFVLLYLYATRKKNYWKNQNVVYEKLSLMFGPASRILFH...RPQ'), id='Ixodes_scapularis-CYP41C20_clan3', name='Ixodes_scapularis-CYP41C20_clan3', description='Ixodes_scapularis-CYP41C20_clan3', dbxrefs=[]),\n",
       " SeqRecord(seq=Seq('MKLLGLPDWAVLVITVFVLLYLYATRKENYWKNQNVVYEKLSLIFGPASRILFH...RPQ'), id='Ixodes_scapularis-CYP41C6_clan3', name='Ixodes_scapularis-CYP41C6_clan3', description='Ixodes_scapularis-CYP41C6_clan3', dbxrefs=[]),\n",
       " SeqRecord(seq=Seq('MKFLGVPDWIILVATALVLLYLYAARYRNYWKNQNVIHEEFSLIFAAARRMIFK...RTA'), id='Ixodes_scapularis-CYP41C21_clan3', name='Ixodes_scapularis-CYP41C21_clan3', description='Ixodes_scapularis-CYP41C21_clan3', dbxrefs=[]),\n",
       " SeqRecord(seq=Seq('MNFLGVPDWIILVATALVLLYLYAARYRNYWKEQNVIHEEFSLIFAAARRLMFK...RPA'), id='Ixodes_scapularis-CYP41C22_clan3', name='Ixodes_scapularis-CYP41C22_clan3', description='Ixodes_scapularis-CYP41C22_clan3', dbxrefs=[]),\n",
       " SeqRecord(seq=Seq('MKFLGVPDWIILVATALVLLYLYAARYRNYWKNQNVIHEEFSLIFAAARRMIFK...RTA'), id='Ixodes_scapularis-CYP41C5_clan3', name='Ixodes_scapularis-CYP41C5_clan3', description='Ixodes_scapularis-CYP41C5_clan3', dbxrefs=[]),\n",
       " SeqRecord(seq=Seq('MELLGYYILPNWIIVVLSAFTLLYIYLARNKNYWKDQNIVHRKLSLSFVPLLKF...KPR'), id='Ixodes_scapularis-CYP41C9v2_clan3', name='Ixodes_scapularis-CYP41C9v2_clan3', description='Ixodes_scapularis-CYP41C9v2_clan3', dbxrefs=[]),\n",
       " SeqRecord(seq=Seq('MGLLGFVGLPDWILLLATALVLLYMYITRNSNYWKKQNVVHMTFFETFGMLLKI...RQR'), id='Ixodes_scapularis-CYP41C10_clan3', name='Ixodes_scapularis-CYP41C10_clan3', description='Ixodes_scapularis-CYP41C10_clan3', dbxrefs=[]),\n",
       " SeqRecord(seq=Seq('MGLLGFLGLPDWIILLATALVLLYMYVTRNTDYWKKQNVVHIPFFQSIRVMLKV...RQR'), id='Ixodes_scapularis-CYP41C11_clan3', name='Ixodes_scapularis-CYP41C11_clan3', description='Ixodes_scapularis-CYP41C11_clan3', dbxrefs=[]),\n",
       " SeqRecord(seq=Seq('MGLLGFLGLPDWIILLATALVLLYMYVTRNTDYWKKQNVVHIPFFQSIRVMLKV...RQR'), id='Ixodes_scapularis-CYP41C18b_clan3', name='Ixodes_scapularis-CYP41C18b_clan3', description='Ixodes_scapularis-CYP41C18b_clan3', dbxrefs=[]),\n",
       " SeqRecord(seq=Seq('MKFLGVPDWIILVATALVLLYLYAARYRNYWKEQNVVQEDFSLIFATAKRILFK...RTV'), id='Ixodes_scapularis-CYP41C23_clan3', name='Ixodes_scapularis-CYP41C23_clan3', description='Ixodes_scapularis-CYP41C23_clan3', dbxrefs=[]),\n",
       " SeqRecord(seq=Seq('METLIILAITIFVIWYMYASRYRNYWKSQGVPYEKLSLFFGLTLQRYIKPFHLV...TRN'), id='Ixodes_scapularis-CYP41B1_clan3', name='Ixodes_scapularis-CYP41B1_clan3', description='Ixodes_scapularis-CYP41B1_clan3', dbxrefs=[]),\n",
       " SeqRecord(seq=Seq('MKFLGVPDWIILVVTALVLLYLYAARHRNYWKEQNVVHENFSLIFAAMRRMLFK...RAA'), id='Ixodes_scapularis-CYP41C12_clan3', name='Ixodes_scapularis-CYP41C12_clan3', description='Ixodes_scapularis-CYP41C12_clan3', dbxrefs=[]),\n",
       " SeqRecord(seq=Seq('MNFLGVPDWVILVVTALVLLYLYAARYRNYWKEQNVVHENFSLIFAAGKRMLFK...RTA'), id='Ixodes_scapularis-CYP41C3_clan3', name='Ixodes_scapularis-CYP41C3_clan3', description='Ixodes_scapularis-CYP41C3_clan3', dbxrefs=[]),\n",
       " SeqRecord(seq=Seq('MDFLGVLSVPNWLIFIVAVLVTGYLYSMRNYGYWKKRGVKEVQDKFPFQNIFQS...ADV'), id='Limulus_polyphemus-CYP41E1_clan3', name='Limulus_polyphemus-CYP41E1_clan3', description='Limulus_polyphemus-CYP41E1_clan3', dbxrefs=[]),\n",
       " SeqRecord(seq=Seq('MEILGLLFVSNWLVYTVAALLAVYLYLTKNFGYWKRRGIKEITTRYPYQGILYF...WSL'), id='Limulus_polyphemus-CYP41E2_clan3', name='Limulus_polyphemus-CYP41E2_clan3', description='Limulus_polyphemus-CYP41E2_clan3', dbxrefs=[]),\n",
       " SeqRecord(seq=Seq('ILDGFKPAISVAEPELLKKILVKDFHAFSRVRVISDFVMDKMLFALQDEDWKRV...RET'), id='Limulus_polyphemus-CYP41F1_clan3', name='Limulus_polyphemus-CYP41F1_clan3', description='Limulus_polyphemus-CYP41F1_clan3', dbxrefs=[]),\n",
       " SeqRecord(seq=Seq('MAFVEIFGGPLFATFLIGVFTFLLALWYSMKKQSYWKERNVPYVKPLPFLGSLL...LKP'), id='Parasteatoda_tepidariorum-CYP41G8_clan3', name='Parasteatoda_tepidariorum-CYP41G8_clan3', description='Parasteatoda_tepidariorum-CYP41G8_clan3', dbxrefs=[]),\n",
       " SeqRecord(seq=Seq('MAFMEIFSGPLFATFLIGVSTFLLALWYSMKKQSYWKERNVPYVKPLPFLGSLL...LKP'), id='Parasteatoda_tepidariorum-CYP41G10_clan3', name='Parasteatoda_tepidariorum-CYP41G10_clan3', description='Parasteatoda_tepidariorum-CYP41G10_clan3', dbxrefs=[]),\n",
       " SeqRecord(seq=Seq('MALMEIFSGPLFATFLIGVSTFLLALWYSMKKQSYWKERNVPYVKPLPFLGSLL...LKP'), id='Parasteatoda_tepidariorum-CYP41G9_clan3', name='Parasteatoda_tepidariorum-CYP41G9_clan3', description='Parasteatoda_tepidariorum-CYP41G9_clan3', dbxrefs=[]),\n",
       " SeqRecord(seq=Seq('MSEHLFVTFVIGIFTLLLALWYSMRKQSYWKQRKIPYVKPIPFIGSLYENMITP...LQI'), id='Parasteatoda_tepidariorum-CYP41G11_clan3', name='Parasteatoda_tepidariorum-CYP41G11_clan3', description='Parasteatoda_tepidariorum-CYP41G11_clan3', dbxrefs=[]),\n",
       " SeqRecord(seq=Seq('MEFAGIFFGPLAATFFIAVTTLFLLIWHSIRSHQYWKKRNVPYAKPLPLLGNML...PIN'), id='Parasteatoda_tepidariorum-CYP41G15_clan3', name='Parasteatoda_tepidariorum-CYP41G15_clan3', description='Parasteatoda_tepidariorum-CYP41G15_clan3', dbxrefs=[]),\n",
       " SeqRecord(seq=Seq('MEITDALFTPLGYTLLLAVAVLYFLWRNTKVPTYWKDKGVAYVKPLPLFGSLLE...YNP'), id='Parasteatoda_tepidariorum-CYP41G16_clan3', name='Parasteatoda_tepidariorum-CYP41G16_clan3', description='Parasteatoda_tepidariorum-CYP41G16_clan3', dbxrefs=[]),\n",
       " SeqRecord(seq=Seq('MDAYMDALYDIRIASAIVAVLVSILLYWYSTRNHDYWKKRGIPYVKPYPLLGSH...LKS'), id='Parasteatoda_tepidariorum-CYP41G18_clan3', name='Parasteatoda_tepidariorum-CYP41G18_clan3', description='Parasteatoda_tepidariorum-CYP41G18_clan3', dbxrefs=[]),\n",
       " SeqRecord(seq=Seq('MDAYMDALYDIRIASAIVAVLVSILLYWYSTRNHDYWKKRGIPYVKPYPFVGSH...LKA'), id='Parasteatoda_tepidariorum-CYP41G17_clan3', name='Parasteatoda_tepidariorum-CYP41G17_clan3', description='Parasteatoda_tepidariorum-CYP41G17_clan3', dbxrefs=[]),\n",
       " SeqRecord(seq=Seq('MDALDILYDIRIASAIVAVVVSILFYWYSTKNHDYWKKRGIPYIKPYPLLGSAP...VKF'), id='Parasteatoda_tepidariorum-CYP41G19_clan3', name='Parasteatoda_tepidariorum-CYP41G19_clan3', description='Parasteatoda_tepidariorum-CYP41G19_clan3', dbxrefs=[]),\n",
       " SeqRecord(seq=Seq('MDLMDILFNTYVITAALGFLVYFIYRFATRNHTFWEERNVPYVKPYPFIGSLKD...LKQ'), id='Parasteatoda_tepidariorum-CYP41G22_clan3', name='Parasteatoda_tepidariorum-CYP41G22_clan3', description='Parasteatoda_tepidariorum-CYP41G22_clan3', dbxrefs=[]),\n",
       " SeqRecord(seq=Seq('MGLMESFLDVYVSTAVFGVLFLYLLYRFSVRNHNLWKEKNVPYIKPLPFVGNLL...KCS'), id='Parasteatoda_tepidariorum-CYP41G28_clan3', name='Parasteatoda_tepidariorum-CYP41G28_clan3', description='Parasteatoda_tepidariorum-CYP41G28_clan3', dbxrefs=[]),\n",
       " SeqRecord(seq=Seq('MVVMDITLNQYIGIFLGILIPYLLYRQSKKNHNYWKERNIPFVKPYPFIGSFDE...RVL'), id='Parasteatoda_tepidariorum-CYP41G24_clan3', name='Parasteatoda_tepidariorum-CYP41G24_clan3', description='Parasteatoda_tepidariorum-CYP41G24_clan3', dbxrefs=[]),\n",
       " SeqRecord(seq=Seq('MEILESLLNAYVSSAVLGVILLYTLYRFSVRNHNVWKEKNVPFVKPYPFVGSLL...PLR'), id='Parasteatoda_tepidariorum-CYP41G25_clan3', name='Parasteatoda_tepidariorum-CYP41G25_clan3', description='Parasteatoda_tepidariorum-CYP41G25_clan3', dbxrefs=[]),\n",
       " SeqRecord(seq=Seq('MQWTKDVPKDVYIIWTSSFLLGVILPFIIYWCSSRKHRYWRDRGVKYAEPLSFF...LKE'), id='Parasteatoda_tepidariorum-CYP41G29_clan3', name='Parasteatoda_tepidariorum-CYP41G29_clan3', description='Parasteatoda_tepidariorum-CYP41G29_clan3', dbxrefs=[]),\n",
       " SeqRecord(seq=Seq('MTINEPMFEYFNYISTEVLLIGIITVLLCWYHSNKKFSYWKERNIPYVKSFPFI...VYN'), id='Parasteatoda_tepidariorum-CYP41L1_clan3', name='Parasteatoda_tepidariorum-CYP41L1_clan3', description='Parasteatoda_tepidariorum-CYP41L1_clan3', dbxrefs=[]),\n",
       " SeqRecord(seq=Seq('MLEFSVYTWLIIIFTLVIVGITGFLWYIRRNDDYWKIRGVKYQPRQSLFTIIKE...STS'), id='Parasteatoda_tepidariorum-CYP41H3_clan3', name='Parasteatoda_tepidariorum-CYP41H3_clan3', description='Parasteatoda_tepidariorum-CYP41H3_clan3', dbxrefs=[]),\n",
       " SeqRecord(seq=Seq('MFEICVLSLAMSTLTLVVICISVFLWYLRRNDDYWKRRGVKYQPRRNLFTILRL...KRH'), id='Parasteatoda_tepidariorum-CYP41H5_clan3', name='Parasteatoda_tepidariorum-CYP41H5_clan3', description='Parasteatoda_tepidariorum-CYP41H5_clan3', dbxrefs=[]),\n",
       " SeqRecord(seq=Seq('MNMFSIFGELSFSTVLISFLIIIFLYRYSIRSHNYWKERNVPFVKPYPFIGTLL...LRN'), id='Parasteatoda_tepidariorum-CYP41K1_clan3', name='Parasteatoda_tepidariorum-CYP41K1_clan3', description='Parasteatoda_tepidariorum-CYP41K1_clan3', dbxrefs=[]),\n",
       " SeqRecord(seq=Seq('MAIKELIFSYLNHFSTEMLLILILTALFWWYSNKKLSYWKDRNVPYVKPLPFFG...PLV'), id='Parasteatoda_tepidariorum-CYP41L5_clan3', name='Parasteatoda_tepidariorum-CYP41L5_clan3', description='Parasteatoda_tepidariorum-CYP41L5_clan3', dbxrefs=[]),\n",
       " SeqRecord(seq=Seq('MAITEHIFLYLNHISTEMLLIGILTSLFWWYSNKKLSYWKDKNIPYVKPLLFFG...VYT'), id='Parasteatoda_tepidariorum-CYP41L3_clan3', name='Parasteatoda_tepidariorum-CYP41L3_clan3', description='Parasteatoda_tepidariorum-CYP41L3_clan3', dbxrefs=[]),\n",
       " SeqRecord(seq=Seq('MAINEHIFSYLNHISIEILLIGILTSLFWWYSNKKLSYWKDKNIHYVKPLPFFG...IYT'), id='Parasteatoda_tepidariorum-CYP41L2_clan3', name='Parasteatoda_tepidariorum-CYP41L2_clan3', description='Parasteatoda_tepidariorum-CYP41L2_clan3', dbxrefs=[]),\n",
       " SeqRecord(seq=Seq('MFEFNIYTWLIIIFTLVIVGITGFLRYIGRNDDYWKIRGVKYHPRQSLFKILKV...STL'), id='Parasteatoda_tepidariorum-CYP41H4_clan3', name='Parasteatoda_tepidariorum-CYP41H4_clan3', description='Parasteatoda_tepidariorum-CYP41H4_clan3', dbxrefs=[]),\n",
       " SeqRecord(seq=Seq('MFFFSFLVFYDWLFLAITIAVLLYLRASRHRNYWRNQNVVHEKFSLFFGSQIKH...RSS'), id='CYP41A1-Rhipicephalus(Boophilus)_microplus-AAD5400', name='CYP41A1-Rhipicephalus(Boophilus)_microplus-AAD5400', description='CYP41A1-Rhipicephalus(Boophilus)_microplus-AAD5400', dbxrefs=[])]"
      ]
     },
     "execution_count": 24,
     "metadata": {},
     "output_type": "execute_result"
    }
   ],
   "source": [
    "stats_df[\"id\"] = stats_df[\"id_full\"].map(lambda s: match_or_none(pattern_id, s))\n",
    "stats_df[\"family\"] = stats_df[\"id\"].map(lambda s: match_or_none(pattern_fam, s))\n",
    "stats_df[\"subfamily\"] = stats_df[\"id\"].map(lambda s: match_or_none(pattern_subfam, s))\n",
    "stats_df[\"gene\"] = stats_df[\"id\"].map(lambda s: match_or_none(pattern_gene, s))\n",
    "\n",
    "\n",
    "families = stats_df[\"family\"].value_counts()\n",
    "families = families[families > 4].index\n",
    "\n",
    "id_map = dict(zip([seq.id for seq in seqs], stats_df[\"family\"]))\n",
    "\n",
    "seq_groups = {}\n",
    "for family in families:\n",
    "    seq_groups[family] = list(filter(lambda seq: id_map[seq.id] == family, seqs))\n",
    "\n",
    "out_dir = data_dir / \"paper\" / \"arthropod\"\n",
    "os.makedirs(out_dir, exist_ok=True)"
   ]
  }
 ],
 "metadata": {
  "kernelspec": {
   "display_name": "ensemblify",
   "language": "python",
   "name": "python3"
  },
  "language_info": {
   "codemirror_mode": {
    "name": "ipython",
    "version": 3
   },
   "file_extension": ".py",
   "mimetype": "text/x-python",
   "name": "python",
   "nbconvert_exporter": "python",
   "pygments_lexer": "ipython3",
   "version": "3.12.11"
  }
 },
 "nbformat": 4,
 "nbformat_minor": 5
}
