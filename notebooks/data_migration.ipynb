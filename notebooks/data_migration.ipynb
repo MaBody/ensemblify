{
 "cells": [
  {
   "cell_type": "code",
   "execution_count": 1,
   "id": "d8c32634",
   "metadata": {},
   "outputs": [],
   "source": [
    "import os \n",
    "import shutil\n",
    "from pathlib import Path\n",
    "from tqdm import tqdm\n",
    "import re\n"
   ]
  },
  {
   "cell_type": "code",
   "execution_count": 2,
   "id": "aec2de75",
   "metadata": {},
   "outputs": [],
   "source": [
    "names = [\"ClustalO\", \"Mafft_FFT-NS-2\", \"Mafft_L-INS-i\", \n",
    "\"Mafft_G-INS-i\", \"Muscle3\", \"Muscle5\"]\n",
    "names_new = names_new = [\"ClustalO\", \"MAFFT_FFT-NS-2\", \n",
    "\"MAFFT_L-INS-i\", \"MAFFT_G-INS-i\", \"Muscle3\", \"Muscle5\"]\n",
    "name_map = dict(zip(names, names_new))\n",
    "\n",
    "regex_default = re.compile(r\"^sequences\\.[0-9]+\\.fasta$\")\n",
    "regex_muscle5 = re.compile(r\"^[a-z]{3,4}\\.[0-9]+\\.msa\\.fasta$\")"
   ]
  },
  {
   "cell_type": "code",
   "execution_count": 3,
   "id": "a27a43b5",
   "metadata": {},
   "outputs": [
    {
     "name": "stdout",
     "output_type": "stream",
     "text": [
      "3122\n"
     ]
    },
    {
     "name": "stderr",
     "output_type": "stream",
     "text": [
      " 49%|████▉     | 1536/3122 [00:03<00:03, 490.71it/s]"
     ]
    },
    {
     "name": "stdout",
     "output_type": "stream",
     "text": [
      "/hits/fast/cme/bodynems/data/output/treebase_v2/10271_0.phy\n"
     ]
    },
    {
     "name": "stderr",
     "output_type": "stream",
     "text": [
      " 92%|█████████▏| 2887/3122 [00:05<00:00, 497.31it/s]"
     ]
    },
    {
     "name": "stdout",
     "output_type": "stream",
     "text": [
      "/hits/fast/cme/bodynems/data/output/treebase_v2/10271_2.phy\n",
      "/hits/fast/cme/bodynems/data/output/treebase_v2/15191_23.phy\n"
     ]
    },
    {
     "name": "stderr",
     "output_type": "stream",
     "text": [
      "100%|██████████| 3122/3122 [00:06<00:00, 489.52it/s]\n"
     ]
    }
   ],
   "source": [
    "base_dir = Path(\"/hits/fast/cme/bodynems/data/output/treebase_v2/\")\n",
    "print(len(os.listdir(base_dir)))\n",
    "counts = dict(zip(names, [0]*len(names)))\n",
    "missing = []\n",
    "for dataset in tqdm(os.listdir(base_dir)):\n",
    "    data_dir = base_dir / dataset\n",
    "    if os.path.isdir(data_dir):\n",
    "        count = 0\n",
    "        for name in names:\n",
    "            ens_dir = data_dir / name\n",
    "            regex = regex_muscle5 if name == \"Muscle5\" else regex_default\n",
    "            count += len(list(filter(lambda msa_file: re.match(regex, msa_file), os.listdir(ens_dir))))\n",
    "        if count != 48:\n",
    "            missing.append(data_dir)\n",
    "            print(data_dir)\n",
    "            # for msa_name in filter(lambda msa_file: re.match(regex, msa_file), os.listdir(ens_dir)):    \n",
    "            #     counts[name] += 1\n",
    "\n",
    "# Three datasets are incomplete, filter out"
   ]
  },
  {
   "cell_type": "code",
   "execution_count": 11,
   "id": "e12b7512",
   "metadata": {},
   "outputs": [
    {
     "name": "stderr",
     "output_type": "stream",
     "text": [
      "  0%|          | 0/3122 [00:00<?, ?it/s]"
     ]
    },
    {
     "name": "stderr",
     "output_type": "stream",
     "text": [
      " 67%|██████▋   | 2078/3122 [53:21<26:48,  1.54s/it]  \n"
     ]
    },
    {
     "ename": "KeyboardInterrupt",
     "evalue": "",
     "output_type": "error",
     "traceback": [
      "\u001b[31m---------------------------------------------------------------------------\u001b[39m",
      "\u001b[31mKeyboardInterrupt\u001b[39m                         Traceback (most recent call last)",
      "\u001b[36mCell\u001b[39m\u001b[36m \u001b[39m\u001b[32mIn[11]\u001b[39m\u001b[32m, line 17\u001b[39m\n\u001b[32m     15\u001b[39m \u001b[38;5;28;01mfor\u001b[39;00m i, msa_name \u001b[38;5;129;01min\u001b[39;00m \u001b[38;5;28menumerate\u001b[39m(\u001b[38;5;28mfilter\u001b[39m(\u001b[38;5;28;01mlambda\u001b[39;00m msa_file: re.match(regex, msa_file), msa_files)):\n\u001b[32m     16\u001b[39m     dest_path = dest_dir / dataset / \u001b[33m\"\u001b[39m\u001b[33mensemble\u001b[39m\u001b[33m\"\u001b[39m / \u001b[33m\"\u001b[39m\u001b[33m.\u001b[39m\u001b[33m\"\u001b[39m.join([name_map[name], \u001b[38;5;28mstr\u001b[39m(i), \u001b[33m\"\u001b[39m\u001b[33mfasta\u001b[39m\u001b[33m\"\u001b[39m])\n\u001b[32m---> \u001b[39m\u001b[32m17\u001b[39m     \u001b[43mshutil\u001b[49m\u001b[43m.\u001b[49m\u001b[43mcopy\u001b[49m\u001b[43m(\u001b[49m\u001b[43mens_dir\u001b[49m\u001b[43m \u001b[49m\u001b[43m/\u001b[49m\u001b[43m \u001b[49m\u001b[43mmsa_name\u001b[49m\u001b[43m,\u001b[49m\u001b[43m \u001b[49m\u001b[43mdest_path\u001b[49m\u001b[43m)\u001b[49m\n",
      "\u001b[36mFile \u001b[39m\u001b[32m/hits/fast/cme/bodynems/.local/lib/micromamba/envs/ensemblify/lib/python3.12/shutil.py:435\u001b[39m, in \u001b[36mcopy\u001b[39m\u001b[34m(src, dst, follow_symlinks)\u001b[39m\n\u001b[32m    433\u001b[39m \u001b[38;5;28;01mif\u001b[39;00m os.path.isdir(dst):\n\u001b[32m    434\u001b[39m     dst = os.path.join(dst, os.path.basename(src))\n\u001b[32m--> \u001b[39m\u001b[32m435\u001b[39m \u001b[43mcopyfile\u001b[49m\u001b[43m(\u001b[49m\u001b[43msrc\u001b[49m\u001b[43m,\u001b[49m\u001b[43m \u001b[49m\u001b[43mdst\u001b[49m\u001b[43m,\u001b[49m\u001b[43m \u001b[49m\u001b[43mfollow_symlinks\u001b[49m\u001b[43m=\u001b[49m\u001b[43mfollow_symlinks\u001b[49m\u001b[43m)\u001b[49m\n\u001b[32m    436\u001b[39m copymode(src, dst, follow_symlinks=follow_symlinks)\n\u001b[32m    437\u001b[39m \u001b[38;5;28;01mreturn\u001b[39;00m dst\n",
      "\u001b[36mFile \u001b[39m\u001b[32m/hits/fast/cme/bodynems/.local/lib/micromamba/envs/ensemblify/lib/python3.12/shutil.py:273\u001b[39m, in \u001b[36mcopyfile\u001b[39m\u001b[34m(src, dst, follow_symlinks)\u001b[39m\n\u001b[32m    271\u001b[39m \u001b[38;5;28;01melif\u001b[39;00m _USE_CP_SENDFILE:\n\u001b[32m    272\u001b[39m     \u001b[38;5;28;01mtry\u001b[39;00m:\n\u001b[32m--> \u001b[39m\u001b[32m273\u001b[39m         \u001b[43m_fastcopy_sendfile\u001b[49m\u001b[43m(\u001b[49m\u001b[43mfsrc\u001b[49m\u001b[43m,\u001b[49m\u001b[43m \u001b[49m\u001b[43mfdst\u001b[49m\u001b[43m)\u001b[49m\n\u001b[32m    274\u001b[39m         \u001b[38;5;28;01mreturn\u001b[39;00m dst\n\u001b[32m    275\u001b[39m     \u001b[38;5;28;01mexcept\u001b[39;00m _GiveupOnFastCopy:\n",
      "\u001b[36mFile \u001b[39m\u001b[32m/hits/fast/cme/bodynems/.local/lib/micromamba/envs/ensemblify/lib/python3.12/shutil.py:150\u001b[39m, in \u001b[36m_fastcopy_sendfile\u001b[39m\u001b[34m(fsrc, fdst)\u001b[39m\n\u001b[32m    148\u001b[39m \u001b[38;5;28;01mwhile\u001b[39;00m \u001b[38;5;28;01mTrue\u001b[39;00m:\n\u001b[32m    149\u001b[39m     \u001b[38;5;28;01mtry\u001b[39;00m:\n\u001b[32m--> \u001b[39m\u001b[32m150\u001b[39m         sent = \u001b[43mos\u001b[49m\u001b[43m.\u001b[49m\u001b[43msendfile\u001b[49m\u001b[43m(\u001b[49m\u001b[43moutfd\u001b[49m\u001b[43m,\u001b[49m\u001b[43m \u001b[49m\u001b[43minfd\u001b[49m\u001b[43m,\u001b[49m\u001b[43m \u001b[49m\u001b[43moffset\u001b[49m\u001b[43m,\u001b[49m\u001b[43m \u001b[49m\u001b[43mblocksize\u001b[49m\u001b[43m)\u001b[49m\n\u001b[32m    151\u001b[39m     \u001b[38;5;28;01mexcept\u001b[39;00m \u001b[38;5;167;01mOSError\u001b[39;00m \u001b[38;5;28;01mas\u001b[39;00m err:\n\u001b[32m    152\u001b[39m         \u001b[38;5;66;03m# ...in oder to have a more informative exception.\u001b[39;00m\n\u001b[32m    153\u001b[39m         err.filename = fsrc.name\n",
      "\u001b[31mKeyboardInterrupt\u001b[39m: "
     ]
    }
   ],
   "source": [
    "dest_dir = Path(\"/hits/fast/cme/bodynems/data/paper/treebase_v1\")\n",
    "for dataset in tqdm(os.listdir(base_dir)):\n",
    "    data_dir = base_dir / dataset\n",
    "    if os.path.isdir(data_dir) & (data_dir not in missing):\n",
    "        os.makedirs(dest_dir / dataset / \"ensemble\", exist_ok=True)\n",
    "        \n",
    "        if len(os.listdir(dest_dir / dataset / \"ensemble\")) == 48:\n",
    "            continue\n",
    "        \n",
    "        for name in names:\n",
    "            ens_dir = data_dir / name\n",
    "            regex = regex_muscle5 if name == \"Muscle5\" else regex_default\n",
    "            msa_files = sorted(os.listdir(ens_dir))\n",
    "            \n",
    "            for i, msa_name in enumerate(filter(lambda msa_file: re.match(regex, msa_file), msa_files)):\n",
    "                dest_path = dest_dir / dataset / \"ensemble\" / \".\".join([name_map[name], str(i), \"fasta\"])\n",
    "                shutil.copy(ens_dir / msa_name, dest_path)\n",
    "        \n",
    "        "
   ]
  }
 ],
 "metadata": {
  "kernelspec": {
   "display_name": "ensemblify",
   "language": "python",
   "name": "python3"
  },
  "language_info": {
   "codemirror_mode": {
    "name": "ipython",
    "version": 3
   },
   "file_extension": ".py",
   "mimetype": "text/x-python",
   "name": "python",
   "nbconvert_exporter": "python",
   "pygments_lexer": "ipython3",
   "version": "3.12.11"
  }
 },
 "nbformat": 4,
 "nbformat_minor": 5
}
