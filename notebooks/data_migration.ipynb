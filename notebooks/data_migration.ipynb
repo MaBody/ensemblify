{
 "cells": [
  {
   "cell_type": "code",
   "execution_count": 1,
   "id": "d8c32634",
   "metadata": {},
   "outputs": [],
   "source": [
    "import os \n",
    "import shutil\n",
    "from pathlib import Path\n",
    "from tqdm import tqdm\n",
    "import re\n"
   ]
  },
  {
   "cell_type": "code",
   "execution_count": 2,
   "id": "aec2de75",
   "metadata": {},
   "outputs": [],
   "source": [
    "names = [\"ClustalO\", \"Mafft_FFT-NS-2\", \"Mafft_L-INS-i\", \n",
    "\"Mafft_G-INS-i\", \"Muscle3\", \"Muscle5\"]\n",
    "names_new = names_new = [\"ClustalO\", \"MAFFT_FFT-NS-2\", \n",
    "\"MAFFT_L-INS-i\", \"MAFFT_G-INS-i\", \"Muscle3\", \"Muscle5\"]\n",
    "name_map = dict(zip(names, names_new))\n",
    "\n",
    "regex_default = re.compile(r\"^sequences\\.[0-9]+\\.fasta$\")\n",
    "regex_muscle5 = re.compile(r\"^[a-z]{3,4}\\.[0-9]+\\.msa\\.fasta$\")"
   ]
  },
  {
   "cell_type": "code",
   "execution_count": 3,
   "id": "a27a43b5",
   "metadata": {},
   "outputs": [
    {
     "name": "stdout",
     "output_type": "stream",
     "text": [
      "3122\n"
     ]
    },
    {
     "name": "stderr",
     "output_type": "stream",
     "text": [
      " 49%|████▉     | 1536/3122 [00:03<00:03, 490.71it/s]"
     ]
    },
    {
     "name": "stdout",
     "output_type": "stream",
     "text": [
      "/hits/fast/cme/bodynems/data/output/treebase_v2/10271_0.phy\n"
     ]
    },
    {
     "name": "stderr",
     "output_type": "stream",
     "text": [
      " 92%|█████████▏| 2887/3122 [00:05<00:00, 497.31it/s]"
     ]
    },
    {
     "name": "stdout",
     "output_type": "stream",
     "text": [
      "/hits/fast/cme/bodynems/data/output/treebase_v2/10271_2.phy\n",
      "/hits/fast/cme/bodynems/data/output/treebase_v2/15191_23.phy\n"
     ]
    },
    {
     "name": "stderr",
     "output_type": "stream",
     "text": [
      "100%|██████████| 3122/3122 [00:06<00:00, 489.52it/s]\n"
     ]
    }
   ],
   "source": [
    "base_dir = Path(\"/hits/fast/cme/bodynems/data/output/treebase_v2/\")\n",
    "print(len(os.listdir(base_dir)))\n",
    "counts = dict(zip(names, [0]*len(names)))\n",
    "missing = []\n",
    "for dataset in tqdm(os.listdir(base_dir)):\n",
    "    data_dir = base_dir / dataset\n",
    "    if os.path.isdir(data_dir):\n",
    "        count = 0\n",
    "        for name in names:\n",
    "            ens_dir = data_dir / name\n",
    "            regex = regex_muscle5 if name == \"Muscle5\" else regex_default\n",
    "            count += len(list(filter(lambda msa_file: re.match(regex, msa_file), os.listdir(ens_dir))))\n",
    "        if count != 48:\n",
    "            missing.append(data_dir)\n",
    "            print(data_dir)\n",
    "            # for msa_name in filter(lambda msa_file: re.match(regex, msa_file), os.listdir(ens_dir)):    \n",
    "            #     counts[name] += 1\n",
    "\n",
    "# Three datasets are incomplete, filter out"
   ]
  },
  {
   "cell_type": "code",
   "execution_count": null,
   "id": "e12b7512",
   "metadata": {},
   "outputs": [
    {
     "name": "stderr",
     "output_type": "stream",
     "text": [
      "  0%|          | 0/3122 [00:00<?, ?it/s]"
     ]
    },
    {
     "name": "stderr",
     "output_type": "stream",
     "text": [
      " 57%|█████▋    | 1770/3122 [45:33<33:40,  1.49s/it]  "
     ]
    }
   ],
   "source": [
    "dest_dir = Path(\"/hits/fast/cme/bodynems/data/paper/treebase_v1\")\n",
    "for dataset in tqdm(os.listdir(base_dir)):\n",
    "    data_dir = base_dir / dataset\n",
    "    if os.path.isdir(data_dir) & (data_dir not in missing):\n",
    "        os.makedirs(dest_dir / dataset / \"ensemble\", exist_ok=True)\n",
    "        \n",
    "        if len(os.listdir(dest_dir / dataset / \"ensemble\")) == 48:\n",
    "            continue\n",
    "        \n",
    "        for name in names:\n",
    "            ens_dir = data_dir / name\n",
    "            regex = regex_muscle5 if name == \"Muscle5\" else regex_default\n",
    "            msa_files = sorted(os.listdir(ens_dir))\n",
    "            \n",
    "            for i, msa_name in enumerate(filter(lambda msa_file: re.match(regex, msa_file), msa_files)):\n",
    "                dest_path = dest_dir / dataset / \"ensemble\" / \".\".join([name_map[name], str(i), \"fasta\"])\n",
    "                shutil.copy(ens_dir / msa_name, dest_path)\n",
    "        \n",
    "        "
   ]
  }
 ],
 "metadata": {
  "kernelspec": {
   "display_name": "ensemblify",
   "language": "python",
   "name": "python3"
  },
  "language_info": {
   "codemirror_mode": {
    "name": "ipython",
    "version": 3
   },
   "file_extension": ".py",
   "mimetype": "text/x-python",
   "name": "python",
   "nbconvert_exporter": "python",
   "pygments_lexer": "ipython3",
   "version": "3.12.11"
  }
 },
 "nbformat": 4,
 "nbformat_minor": 5
}
